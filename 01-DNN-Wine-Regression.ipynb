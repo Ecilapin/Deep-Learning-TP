{
 "cells": [
  {
   "cell_type": "markdown",
   "metadata": {},
   "source": [
    "<img width=\"800px\" src=\"../fidle/img/header.svg\"></img>\n",
    "\n",
    "# <!-- TITLE --> [K3WINE1] - Wine quality prediction with a Dense Network (DNN)\n",
    "  <!-- DESC -->  Another example of regression, with a wine quality prediction, using Keras 3 and PyTorch\n",
    "  <!-- AUTHOR : Jean-Luc Parouty (CNRS/SIMaP) -->\n",
    "\n",
    "## Objectives :\n",
    " - Predict the **quality of wines**, based on their analysis\n",
    " - Understanding the principle and the architecture of a regression with a dense neural network with backup and restore of the trained model. \n",
    "\n",
    "The **[Wine Quality datasets](https://archive.ics.uci.edu/ml/datasets/wine+Quality)** are made up of analyses of a large number of wines, with an associated quality (between 0 and 10)  \n",
    "This dataset is provide by :  \n",
    "Paulo Cortez, University of Minho, Guimarães, Portugal, http://www3.dsi.uminho.pt/pcortez  \n",
    "A. Cerdeira, F. Almeida, T. Matos and J. Reis, Viticulture Commission of the Vinho Verde Region(CVRVV), Porto, Portugal, @2009  \n",
    "This dataset can be retreive at [University of California Irvine (UCI)](https://archive.ics.uci.edu/dataset/186/wine+quality)\n",
    "\n",
    "\n",
    "Due to privacy and logistic issues, only physicochemical and sensory variables are available  \n",
    "There is no data about grape types, wine brand, wine selling price, etc.\n",
    "\n",
    "- fixed acidity\n",
    "- volatile acidity\n",
    "- citric acid\n",
    "- residual sugar\n",
    "- chlorides\n",
    "- free sulfur dioxide\n",
    "- total sulfur dioxide\n",
    "- density\n",
    "- pH\n",
    "- sulphates\n",
    "- alcohol\n",
    "- quality (score between 0 and 10)\n",
    "\n",
    "## What we're going to do :\n",
    "\n",
    " - (Retrieve data)\n",
    " - (Preparing the data)\n",
    " - (Build a model)\n",
    " - Train and save the model\n",
    " - Restore saved model\n",
    " - Evaluate the model\n",
    " - Make some predictions\n"
   ]
  },
  {
   "cell_type": "markdown",
   "metadata": {},
   "source": [
    "## Step 1 - Import and init\n"
   ]
  },
  {
   "cell_type": "code",
   "execution_count": 1,
   "metadata": {},
   "outputs": [
    {
     "data": {
      "text/html": [
       "<style>\n",
       "\n",
       "div.warn {    \n",
       "    background-color: #fcf2f2;\n",
       "    border-color: #dFb5b4;\n",
       "    border-left: 5px solid #dfb5b4;\n",
       "    padding: 0.5em;\n",
       "    font-weight: bold;\n",
       "    font-size: 1.1em;;\n",
       "    }\n",
       "\n",
       "\n",
       "\n",
       "div.nota {    \n",
       "    background-color: #DAFFDE;\n",
       "    border-left: 5px solid #92CC99;\n",
       "    padding: 0.5em;\n",
       "    }\n",
       "\n",
       "div.todo:before { content:url(data:image/svg+xml;base64,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);\n",
       "    float:left;\n",
       "    margin-right:20px;\n",
       "    margin-top:-20px;\n",
       "    margin-bottom:20px;\n",
       "}\n",
       "div.todo{\n",
       "    font-weight: bold;\n",
       "    font-size: 1.1em;\n",
       "    margin-top:40px;\n",
       "}\n",
       "div.todo ul{\n",
       "    margin: 0.2em;\n",
       "}\n",
       "div.todo li{\n",
       "    margin-left:60px;\n",
       "    margin-top:0;\n",
       "    margin-bottom:0;\n",
       "}\n",
       "\n",
       "div .comment{\n",
       "    font-size:0.8em;\n",
       "    color:#696969;\n",
       "}\n",
       "\n",
       "\n",
       "\n",
       "</style>\n",
       "\n"
      ],
      "text/plain": [
       "<IPython.core.display.HTML object>"
      ]
     },
     "metadata": {},
     "output_type": "display_data"
    },
    {
     "data": {
      "text/markdown": [
       "<br>**FIDLE - Environment initialization**"
      ],
      "text/plain": [
       "<IPython.core.display.Markdown object>"
      ]
     },
     "metadata": {},
     "output_type": "display_data"
    },
    {
     "name": "stdout",
     "output_type": "stream",
     "text": [
      "Version              : 2.3.2\n",
      "Run id               : K3WINE1\n",
      "Run dir              : ./run/K3WINE1\n",
      "Datasets dir         : /data/datasets-fidle\n",
      "Start time           : 22/09/25 16:35:33\n",
      "Hostname             : 523f51ec6e3b (Linux)\n",
      "Tensorflow log level : Info + Warning + Error  (=0)\n",
      "Update keras cache   : False\n",
      "Update torch cache   : False\n",
      "Save figs            : ./run/K3WINE1/figs (False)\n",
      "keras                : 3.7.0\n",
      "numpy                : 2.2.1\n",
      "sklearn              : 1.6.0\n",
      "yaml                 : 6.0.2\n",
      "matplotlib           : 3.10.0\n",
      "pandas               : 2.2.3\n",
      "torch                : 2.5.1+cpu\n"
     ]
    }
   ],
   "source": [
    "import os\n",
    "os.environ['KERAS_BACKEND'] = 'torch'\n",
    "\n",
    "import keras\n",
    "\n",
    "import numpy as np\n",
    "import pandas as pd\n",
    "\n",
    "import fidle\n",
    "\n",
    "# Init Fidle environment\n",
    "run_id, run_dir, datasets_dir = fidle.init('K3WINE1')"
   ]
  },
  {
   "cell_type": "markdown",
   "metadata": {},
   "source": [
    "Verbosity during training : \n",
    "- 0 = silent\n",
    "- 1 = progress bar\n",
    "- 2 = one line per epoch"
   ]
  },
  {
   "cell_type": "code",
   "execution_count": 2,
   "metadata": {},
   "outputs": [],
   "source": [
    "fit_verbosity = 1\n",
    "dataset_name  = 'winequality-red.csv'"
   ]
  },
  {
   "cell_type": "markdown",
   "metadata": {},
   "source": [
    "Override parameters (batch mode) - Just forget this cell"
   ]
  },
  {
   "cell_type": "code",
   "execution_count": 3,
   "metadata": {},
   "outputs": [],
   "source": [
    "fidle.override('fit_verbosity', 'dataset_name')"
   ]
  },
  {
   "cell_type": "markdown",
   "metadata": {},
   "source": [
    "## Step 2 - Retrieve data"
   ]
  },
  {
   "cell_type": "code",
   "execution_count": 4,
   "metadata": {},
   "outputs": [
    {
     "data": {
      "text/html": [
       "<style type=\"text/css\">\n",
       "</style>\n",
       "<table id=\"T_a2b34\">\n",
       "  <thead>\n",
       "    <tr>\n",
       "      <th class=\"blank level0\" >&nbsp;</th>\n",
       "      <th id=\"T_a2b34_level0_col0\" class=\"col_heading level0 col0\" >fixed acidity</th>\n",
       "      <th id=\"T_a2b34_level0_col1\" class=\"col_heading level0 col1\" >volatile acidity</th>\n",
       "      <th id=\"T_a2b34_level0_col2\" class=\"col_heading level0 col2\" >citric acid</th>\n",
       "      <th id=\"T_a2b34_level0_col3\" class=\"col_heading level0 col3\" >residual sugar</th>\n",
       "      <th id=\"T_a2b34_level0_col4\" class=\"col_heading level0 col4\" >chlorides</th>\n",
       "      <th id=\"T_a2b34_level0_col5\" class=\"col_heading level0 col5\" >free sulfur dioxide</th>\n",
       "      <th id=\"T_a2b34_level0_col6\" class=\"col_heading level0 col6\" >total sulfur dioxide</th>\n",
       "      <th id=\"T_a2b34_level0_col7\" class=\"col_heading level0 col7\" >density</th>\n",
       "      <th id=\"T_a2b34_level0_col8\" class=\"col_heading level0 col8\" >pH</th>\n",
       "      <th id=\"T_a2b34_level0_col9\" class=\"col_heading level0 col9\" >sulphates</th>\n",
       "      <th id=\"T_a2b34_level0_col10\" class=\"col_heading level0 col10\" >alcohol</th>\n",
       "      <th id=\"T_a2b34_level0_col11\" class=\"col_heading level0 col11\" >quality</th>\n",
       "    </tr>\n",
       "  </thead>\n",
       "  <tbody>\n",
       "    <tr>\n",
       "      <th id=\"T_a2b34_level0_row0\" class=\"row_heading level0 row0\" >0</th>\n",
       "      <td id=\"T_a2b34_row0_col0\" class=\"data row0 col0\" >7.40</td>\n",
       "      <td id=\"T_a2b34_row0_col1\" class=\"data row0 col1\" >0.70</td>\n",
       "      <td id=\"T_a2b34_row0_col2\" class=\"data row0 col2\" >0.00</td>\n",
       "      <td id=\"T_a2b34_row0_col3\" class=\"data row0 col3\" >1.90</td>\n",
       "      <td id=\"T_a2b34_row0_col4\" class=\"data row0 col4\" >0.08</td>\n",
       "      <td id=\"T_a2b34_row0_col5\" class=\"data row0 col5\" >11.00</td>\n",
       "      <td id=\"T_a2b34_row0_col6\" class=\"data row0 col6\" >34.00</td>\n",
       "      <td id=\"T_a2b34_row0_col7\" class=\"data row0 col7\" >1.00</td>\n",
       "      <td id=\"T_a2b34_row0_col8\" class=\"data row0 col8\" >3.51</td>\n",
       "      <td id=\"T_a2b34_row0_col9\" class=\"data row0 col9\" >0.56</td>\n",
       "      <td id=\"T_a2b34_row0_col10\" class=\"data row0 col10\" >9.40</td>\n",
       "      <td id=\"T_a2b34_row0_col11\" class=\"data row0 col11\" >5.00</td>\n",
       "    </tr>\n",
       "    <tr>\n",
       "      <th id=\"T_a2b34_level0_row1\" class=\"row_heading level0 row1\" >1</th>\n",
       "      <td id=\"T_a2b34_row1_col0\" class=\"data row1 col0\" >7.80</td>\n",
       "      <td id=\"T_a2b34_row1_col1\" class=\"data row1 col1\" >0.88</td>\n",
       "      <td id=\"T_a2b34_row1_col2\" class=\"data row1 col2\" >0.00</td>\n",
       "      <td id=\"T_a2b34_row1_col3\" class=\"data row1 col3\" >2.60</td>\n",
       "      <td id=\"T_a2b34_row1_col4\" class=\"data row1 col4\" >0.10</td>\n",
       "      <td id=\"T_a2b34_row1_col5\" class=\"data row1 col5\" >25.00</td>\n",
       "      <td id=\"T_a2b34_row1_col6\" class=\"data row1 col6\" >67.00</td>\n",
       "      <td id=\"T_a2b34_row1_col7\" class=\"data row1 col7\" >1.00</td>\n",
       "      <td id=\"T_a2b34_row1_col8\" class=\"data row1 col8\" >3.20</td>\n",
       "      <td id=\"T_a2b34_row1_col9\" class=\"data row1 col9\" >0.68</td>\n",
       "      <td id=\"T_a2b34_row1_col10\" class=\"data row1 col10\" >9.80</td>\n",
       "      <td id=\"T_a2b34_row1_col11\" class=\"data row1 col11\" >5.00</td>\n",
       "    </tr>\n",
       "    <tr>\n",
       "      <th id=\"T_a2b34_level0_row2\" class=\"row_heading level0 row2\" >2</th>\n",
       "      <td id=\"T_a2b34_row2_col0\" class=\"data row2 col0\" >7.80</td>\n",
       "      <td id=\"T_a2b34_row2_col1\" class=\"data row2 col1\" >0.76</td>\n",
       "      <td id=\"T_a2b34_row2_col2\" class=\"data row2 col2\" >0.04</td>\n",
       "      <td id=\"T_a2b34_row2_col3\" class=\"data row2 col3\" >2.30</td>\n",
       "      <td id=\"T_a2b34_row2_col4\" class=\"data row2 col4\" >0.09</td>\n",
       "      <td id=\"T_a2b34_row2_col5\" class=\"data row2 col5\" >15.00</td>\n",
       "      <td id=\"T_a2b34_row2_col6\" class=\"data row2 col6\" >54.00</td>\n",
       "      <td id=\"T_a2b34_row2_col7\" class=\"data row2 col7\" >1.00</td>\n",
       "      <td id=\"T_a2b34_row2_col8\" class=\"data row2 col8\" >3.26</td>\n",
       "      <td id=\"T_a2b34_row2_col9\" class=\"data row2 col9\" >0.65</td>\n",
       "      <td id=\"T_a2b34_row2_col10\" class=\"data row2 col10\" >9.80</td>\n",
       "      <td id=\"T_a2b34_row2_col11\" class=\"data row2 col11\" >5.00</td>\n",
       "    </tr>\n",
       "    <tr>\n",
       "      <th id=\"T_a2b34_level0_row3\" class=\"row_heading level0 row3\" >3</th>\n",
       "      <td id=\"T_a2b34_row3_col0\" class=\"data row3 col0\" >11.20</td>\n",
       "      <td id=\"T_a2b34_row3_col1\" class=\"data row3 col1\" >0.28</td>\n",
       "      <td id=\"T_a2b34_row3_col2\" class=\"data row3 col2\" >0.56</td>\n",
       "      <td id=\"T_a2b34_row3_col3\" class=\"data row3 col3\" >1.90</td>\n",
       "      <td id=\"T_a2b34_row3_col4\" class=\"data row3 col4\" >0.07</td>\n",
       "      <td id=\"T_a2b34_row3_col5\" class=\"data row3 col5\" >17.00</td>\n",
       "      <td id=\"T_a2b34_row3_col6\" class=\"data row3 col6\" >60.00</td>\n",
       "      <td id=\"T_a2b34_row3_col7\" class=\"data row3 col7\" >1.00</td>\n",
       "      <td id=\"T_a2b34_row3_col8\" class=\"data row3 col8\" >3.16</td>\n",
       "      <td id=\"T_a2b34_row3_col9\" class=\"data row3 col9\" >0.58</td>\n",
       "      <td id=\"T_a2b34_row3_col10\" class=\"data row3 col10\" >9.80</td>\n",
       "      <td id=\"T_a2b34_row3_col11\" class=\"data row3 col11\" >6.00</td>\n",
       "    </tr>\n",
       "    <tr>\n",
       "      <th id=\"T_a2b34_level0_row4\" class=\"row_heading level0 row4\" >4</th>\n",
       "      <td id=\"T_a2b34_row4_col0\" class=\"data row4 col0\" >7.40</td>\n",
       "      <td id=\"T_a2b34_row4_col1\" class=\"data row4 col1\" >0.70</td>\n",
       "      <td id=\"T_a2b34_row4_col2\" class=\"data row4 col2\" >0.00</td>\n",
       "      <td id=\"T_a2b34_row4_col3\" class=\"data row4 col3\" >1.90</td>\n",
       "      <td id=\"T_a2b34_row4_col4\" class=\"data row4 col4\" >0.08</td>\n",
       "      <td id=\"T_a2b34_row4_col5\" class=\"data row4 col5\" >11.00</td>\n",
       "      <td id=\"T_a2b34_row4_col6\" class=\"data row4 col6\" >34.00</td>\n",
       "      <td id=\"T_a2b34_row4_col7\" class=\"data row4 col7\" >1.00</td>\n",
       "      <td id=\"T_a2b34_row4_col8\" class=\"data row4 col8\" >3.51</td>\n",
       "      <td id=\"T_a2b34_row4_col9\" class=\"data row4 col9\" >0.56</td>\n",
       "      <td id=\"T_a2b34_row4_col10\" class=\"data row4 col10\" >9.40</td>\n",
       "      <td id=\"T_a2b34_row4_col11\" class=\"data row4 col11\" >5.00</td>\n",
       "    </tr>\n",
       "  </tbody>\n",
       "</table>\n"
      ],
      "text/plain": [
       "<pandas.io.formats.style.Styler at 0x77ea1493d510>"
      ]
     },
     "metadata": {},
     "output_type": "display_data"
    },
    {
     "name": "stdout",
     "output_type": "stream",
     "text": [
      "Missing Data :  0   Shape is :  (1599, 12)\n"
     ]
    }
   ],
   "source": [
    "data = pd.read_csv(f'{datasets_dir}/WineQuality/origine/{dataset_name}', header=0,sep=';')\n",
    "\n",
    "display(data.head(5).style.format(\"{0:.2f}\"))\n",
    "print('Missing Data : ',data.isna().sum().sum(), '  Shape is : ', data.shape)"
   ]
  },
  {
   "cell_type": "markdown",
   "metadata": {},
   "source": [
    "## Step 3 - Preparing the data\n",
    "### 3.1 - Split data\n",
    "We will use 80% of the data for training and 20% for validation.  \n",
    "x will be the data of the analysis and y the quality"
   ]
  },
  {
   "cell_type": "code",
   "execution_count": 5,
   "metadata": {},
   "outputs": [
    {
     "name": "stdout",
     "output_type": "stream",
     "text": [
      "Original data shape was :  (1599, 12)\n",
      "x_train :  (1279, 11) y_train :  (1279,)\n",
      "x_test  :  (320, 11) y_test  :  (320,)\n"
     ]
    }
   ],
   "source": [
    "# ---- Split => train, test\n",
    "#\n",
    "data       = data.sample(frac=1., axis=0)     # Shuffle\n",
    "data_train = data.sample(frac=0.8, axis=0)    # get 80 %\n",
    "data_test  = data.drop(data_train.index)      # test = all - train\n",
    "\n",
    "# ---- Split => x,y (medv is price)\n",
    "#\n",
    "x_train = data_train.drop('quality',  axis=1)\n",
    "y_train = data_train['quality']\n",
    "x_test  = data_test.drop('quality',   axis=1)\n",
    "y_test  = data_test['quality']\n",
    "\n",
    "print('Original data shape was : ',data.shape)\n",
    "print('x_train : ',x_train.shape, 'y_train : ',y_train.shape)\n",
    "print('x_test  : ',x_test.shape,  'y_test  : ',y_test.shape)"
   ]
  },
  {
   "cell_type": "markdown",
   "metadata": {},
   "source": [
    "### 3.2 - Data normalization\n",
    "**Note :** \n",
    " - All input data must be normalized, train and test.  \n",
    " - To do this we will subtract the mean and divide by the standard deviation.  \n",
    " - But test data should not be used in any way, even for normalization.  \n",
    " - The mean and the standard deviation will therefore only be calculated with the train data."
   ]
  },
  {
   "cell_type": "code",
   "execution_count": 6,
   "metadata": {},
   "outputs": [
    {
     "data": {
      "text/html": [
       "<style type=\"text/css\">\n",
       "</style>\n",
       "<table id=\"T_db0ab\">\n",
       "  <caption>Before normalization :</caption>\n",
       "  <thead>\n",
       "    <tr>\n",
       "      <th class=\"blank level0\" >&nbsp;</th>\n",
       "      <th id=\"T_db0ab_level0_col0\" class=\"col_heading level0 col0\" >fixed acidity</th>\n",
       "      <th id=\"T_db0ab_level0_col1\" class=\"col_heading level0 col1\" >volatile acidity</th>\n",
       "      <th id=\"T_db0ab_level0_col2\" class=\"col_heading level0 col2\" >citric acid</th>\n",
       "      <th id=\"T_db0ab_level0_col3\" class=\"col_heading level0 col3\" >residual sugar</th>\n",
       "      <th id=\"T_db0ab_level0_col4\" class=\"col_heading level0 col4\" >chlorides</th>\n",
       "      <th id=\"T_db0ab_level0_col5\" class=\"col_heading level0 col5\" >free sulfur dioxide</th>\n",
       "      <th id=\"T_db0ab_level0_col6\" class=\"col_heading level0 col6\" >total sulfur dioxide</th>\n",
       "      <th id=\"T_db0ab_level0_col7\" class=\"col_heading level0 col7\" >density</th>\n",
       "      <th id=\"T_db0ab_level0_col8\" class=\"col_heading level0 col8\" >pH</th>\n",
       "      <th id=\"T_db0ab_level0_col9\" class=\"col_heading level0 col9\" >sulphates</th>\n",
       "      <th id=\"T_db0ab_level0_col10\" class=\"col_heading level0 col10\" >alcohol</th>\n",
       "    </tr>\n",
       "  </thead>\n",
       "  <tbody>\n",
       "    <tr>\n",
       "      <th id=\"T_db0ab_level0_row0\" class=\"row_heading level0 row0\" >count</th>\n",
       "      <td id=\"T_db0ab_row0_col0\" class=\"data row0 col0\" >1279.00</td>\n",
       "      <td id=\"T_db0ab_row0_col1\" class=\"data row0 col1\" >1279.00</td>\n",
       "      <td id=\"T_db0ab_row0_col2\" class=\"data row0 col2\" >1279.00</td>\n",
       "      <td id=\"T_db0ab_row0_col3\" class=\"data row0 col3\" >1279.00</td>\n",
       "      <td id=\"T_db0ab_row0_col4\" class=\"data row0 col4\" >1279.00</td>\n",
       "      <td id=\"T_db0ab_row0_col5\" class=\"data row0 col5\" >1279.00</td>\n",
       "      <td id=\"T_db0ab_row0_col6\" class=\"data row0 col6\" >1279.00</td>\n",
       "      <td id=\"T_db0ab_row0_col7\" class=\"data row0 col7\" >1279.00</td>\n",
       "      <td id=\"T_db0ab_row0_col8\" class=\"data row0 col8\" >1279.00</td>\n",
       "      <td id=\"T_db0ab_row0_col9\" class=\"data row0 col9\" >1279.00</td>\n",
       "      <td id=\"T_db0ab_row0_col10\" class=\"data row0 col10\" >1279.00</td>\n",
       "    </tr>\n",
       "    <tr>\n",
       "      <th id=\"T_db0ab_level0_row1\" class=\"row_heading level0 row1\" >mean</th>\n",
       "      <td id=\"T_db0ab_row1_col0\" class=\"data row1 col0\" >8.33</td>\n",
       "      <td id=\"T_db0ab_row1_col1\" class=\"data row1 col1\" >0.53</td>\n",
       "      <td id=\"T_db0ab_row1_col2\" class=\"data row1 col2\" >0.27</td>\n",
       "      <td id=\"T_db0ab_row1_col3\" class=\"data row1 col3\" >2.55</td>\n",
       "      <td id=\"T_db0ab_row1_col4\" class=\"data row1 col4\" >0.09</td>\n",
       "      <td id=\"T_db0ab_row1_col5\" class=\"data row1 col5\" >15.93</td>\n",
       "      <td id=\"T_db0ab_row1_col6\" class=\"data row1 col6\" >46.98</td>\n",
       "      <td id=\"T_db0ab_row1_col7\" class=\"data row1 col7\" >1.00</td>\n",
       "      <td id=\"T_db0ab_row1_col8\" class=\"data row1 col8\" >3.31</td>\n",
       "      <td id=\"T_db0ab_row1_col9\" class=\"data row1 col9\" >0.66</td>\n",
       "      <td id=\"T_db0ab_row1_col10\" class=\"data row1 col10\" >10.42</td>\n",
       "    </tr>\n",
       "    <tr>\n",
       "      <th id=\"T_db0ab_level0_row2\" class=\"row_heading level0 row2\" >std</th>\n",
       "      <td id=\"T_db0ab_row2_col0\" class=\"data row2 col0\" >1.75</td>\n",
       "      <td id=\"T_db0ab_row2_col1\" class=\"data row2 col1\" >0.17</td>\n",
       "      <td id=\"T_db0ab_row2_col2\" class=\"data row2 col2\" >0.19</td>\n",
       "      <td id=\"T_db0ab_row2_col3\" class=\"data row2 col3\" >1.39</td>\n",
       "      <td id=\"T_db0ab_row2_col4\" class=\"data row2 col4\" >0.05</td>\n",
       "      <td id=\"T_db0ab_row2_col5\" class=\"data row2 col5\" >10.49</td>\n",
       "      <td id=\"T_db0ab_row2_col6\" class=\"data row2 col6\" >32.76</td>\n",
       "      <td id=\"T_db0ab_row2_col7\" class=\"data row2 col7\" >0.00</td>\n",
       "      <td id=\"T_db0ab_row2_col8\" class=\"data row2 col8\" >0.15</td>\n",
       "      <td id=\"T_db0ab_row2_col9\" class=\"data row2 col9\" >0.16</td>\n",
       "      <td id=\"T_db0ab_row2_col10\" class=\"data row2 col10\" >1.06</td>\n",
       "    </tr>\n",
       "    <tr>\n",
       "      <th id=\"T_db0ab_level0_row3\" class=\"row_heading level0 row3\" >min</th>\n",
       "      <td id=\"T_db0ab_row3_col0\" class=\"data row3 col0\" >4.60</td>\n",
       "      <td id=\"T_db0ab_row3_col1\" class=\"data row3 col1\" >0.12</td>\n",
       "      <td id=\"T_db0ab_row3_col2\" class=\"data row3 col2\" >0.00</td>\n",
       "      <td id=\"T_db0ab_row3_col3\" class=\"data row3 col3\" >0.90</td>\n",
       "      <td id=\"T_db0ab_row3_col4\" class=\"data row3 col4\" >0.01</td>\n",
       "      <td id=\"T_db0ab_row3_col5\" class=\"data row3 col5\" >1.00</td>\n",
       "      <td id=\"T_db0ab_row3_col6\" class=\"data row3 col6\" >6.00</td>\n",
       "      <td id=\"T_db0ab_row3_col7\" class=\"data row3 col7\" >0.99</td>\n",
       "      <td id=\"T_db0ab_row3_col8\" class=\"data row3 col8\" >2.74</td>\n",
       "      <td id=\"T_db0ab_row3_col9\" class=\"data row3 col9\" >0.33</td>\n",
       "      <td id=\"T_db0ab_row3_col10\" class=\"data row3 col10\" >8.40</td>\n",
       "    </tr>\n",
       "    <tr>\n",
       "      <th id=\"T_db0ab_level0_row4\" class=\"row_heading level0 row4\" >25%</th>\n",
       "      <td id=\"T_db0ab_row4_col0\" class=\"data row4 col0\" >7.10</td>\n",
       "      <td id=\"T_db0ab_row4_col1\" class=\"data row4 col1\" >0.39</td>\n",
       "      <td id=\"T_db0ab_row4_col2\" class=\"data row4 col2\" >0.10</td>\n",
       "      <td id=\"T_db0ab_row4_col3\" class=\"data row4 col3\" >1.90</td>\n",
       "      <td id=\"T_db0ab_row4_col4\" class=\"data row4 col4\" >0.07</td>\n",
       "      <td id=\"T_db0ab_row4_col5\" class=\"data row4 col5\" >7.00</td>\n",
       "      <td id=\"T_db0ab_row4_col6\" class=\"data row4 col6\" >22.00</td>\n",
       "      <td id=\"T_db0ab_row4_col7\" class=\"data row4 col7\" >1.00</td>\n",
       "      <td id=\"T_db0ab_row4_col8\" class=\"data row4 col8\" >3.21</td>\n",
       "      <td id=\"T_db0ab_row4_col9\" class=\"data row4 col9\" >0.55</td>\n",
       "      <td id=\"T_db0ab_row4_col10\" class=\"data row4 col10\" >9.50</td>\n",
       "    </tr>\n",
       "    <tr>\n",
       "      <th id=\"T_db0ab_level0_row5\" class=\"row_heading level0 row5\" >50%</th>\n",
       "      <td id=\"T_db0ab_row5_col0\" class=\"data row5 col0\" >7.90</td>\n",
       "      <td id=\"T_db0ab_row5_col1\" class=\"data row5 col1\" >0.52</td>\n",
       "      <td id=\"T_db0ab_row5_col2\" class=\"data row5 col2\" >0.26</td>\n",
       "      <td id=\"T_db0ab_row5_col3\" class=\"data row5 col3\" >2.20</td>\n",
       "      <td id=\"T_db0ab_row5_col4\" class=\"data row5 col4\" >0.08</td>\n",
       "      <td id=\"T_db0ab_row5_col5\" class=\"data row5 col5\" >14.00</td>\n",
       "      <td id=\"T_db0ab_row5_col6\" class=\"data row5 col6\" >38.00</td>\n",
       "      <td id=\"T_db0ab_row5_col7\" class=\"data row5 col7\" >1.00</td>\n",
       "      <td id=\"T_db0ab_row5_col8\" class=\"data row5 col8\" >3.31</td>\n",
       "      <td id=\"T_db0ab_row5_col9\" class=\"data row5 col9\" >0.62</td>\n",
       "      <td id=\"T_db0ab_row5_col10\" class=\"data row5 col10\" >10.20</td>\n",
       "    </tr>\n",
       "    <tr>\n",
       "      <th id=\"T_db0ab_level0_row6\" class=\"row_heading level0 row6\" >75%</th>\n",
       "      <td id=\"T_db0ab_row6_col0\" class=\"data row6 col0\" >9.30</td>\n",
       "      <td id=\"T_db0ab_row6_col1\" class=\"data row6 col1\" >0.64</td>\n",
       "      <td id=\"T_db0ab_row6_col2\" class=\"data row6 col2\" >0.43</td>\n",
       "      <td id=\"T_db0ab_row6_col3\" class=\"data row6 col3\" >2.60</td>\n",
       "      <td id=\"T_db0ab_row6_col4\" class=\"data row6 col4\" >0.09</td>\n",
       "      <td id=\"T_db0ab_row6_col5\" class=\"data row6 col5\" >21.00</td>\n",
       "      <td id=\"T_db0ab_row6_col6\" class=\"data row6 col6\" >63.00</td>\n",
       "      <td id=\"T_db0ab_row6_col7\" class=\"data row6 col7\" >1.00</td>\n",
       "      <td id=\"T_db0ab_row6_col8\" class=\"data row6 col8\" >3.40</td>\n",
       "      <td id=\"T_db0ab_row6_col9\" class=\"data row6 col9\" >0.73</td>\n",
       "      <td id=\"T_db0ab_row6_col10\" class=\"data row6 col10\" >11.10</td>\n",
       "    </tr>\n",
       "    <tr>\n",
       "      <th id=\"T_db0ab_level0_row7\" class=\"row_heading level0 row7\" >max</th>\n",
       "      <td id=\"T_db0ab_row7_col0\" class=\"data row7 col0\" >15.90</td>\n",
       "      <td id=\"T_db0ab_row7_col1\" class=\"data row7 col1\" >1.33</td>\n",
       "      <td id=\"T_db0ab_row7_col2\" class=\"data row7 col2\" >1.00</td>\n",
       "      <td id=\"T_db0ab_row7_col3\" class=\"data row7 col3\" >15.40</td>\n",
       "      <td id=\"T_db0ab_row7_col4\" class=\"data row7 col4\" >0.61</td>\n",
       "      <td id=\"T_db0ab_row7_col5\" class=\"data row7 col5\" >72.00</td>\n",
       "      <td id=\"T_db0ab_row7_col6\" class=\"data row7 col6\" >278.00</td>\n",
       "      <td id=\"T_db0ab_row7_col7\" class=\"data row7 col7\" >1.00</td>\n",
       "      <td id=\"T_db0ab_row7_col8\" class=\"data row7 col8\" >4.01</td>\n",
       "      <td id=\"T_db0ab_row7_col9\" class=\"data row7 col9\" >2.00</td>\n",
       "      <td id=\"T_db0ab_row7_col10\" class=\"data row7 col10\" >14.90</td>\n",
       "    </tr>\n",
       "  </tbody>\n",
       "</table>\n"
      ],
      "text/plain": [
       "<pandas.io.formats.style.Styler at 0x77e9fdd15fd0>"
      ]
     },
     "metadata": {},
     "output_type": "display_data"
    },
    {
     "data": {
      "text/html": [
       "<style type=\"text/css\">\n",
       "</style>\n",
       "<table id=\"T_deca1\">\n",
       "  <caption>After normalization :</caption>\n",
       "  <thead>\n",
       "    <tr>\n",
       "      <th class=\"blank level0\" >&nbsp;</th>\n",
       "      <th id=\"T_deca1_level0_col0\" class=\"col_heading level0 col0\" >fixed acidity</th>\n",
       "      <th id=\"T_deca1_level0_col1\" class=\"col_heading level0 col1\" >volatile acidity</th>\n",
       "      <th id=\"T_deca1_level0_col2\" class=\"col_heading level0 col2\" >citric acid</th>\n",
       "      <th id=\"T_deca1_level0_col3\" class=\"col_heading level0 col3\" >residual sugar</th>\n",
       "      <th id=\"T_deca1_level0_col4\" class=\"col_heading level0 col4\" >chlorides</th>\n",
       "      <th id=\"T_deca1_level0_col5\" class=\"col_heading level0 col5\" >free sulfur dioxide</th>\n",
       "      <th id=\"T_deca1_level0_col6\" class=\"col_heading level0 col6\" >total sulfur dioxide</th>\n",
       "      <th id=\"T_deca1_level0_col7\" class=\"col_heading level0 col7\" >density</th>\n",
       "      <th id=\"T_deca1_level0_col8\" class=\"col_heading level0 col8\" >pH</th>\n",
       "      <th id=\"T_deca1_level0_col9\" class=\"col_heading level0 col9\" >sulphates</th>\n",
       "      <th id=\"T_deca1_level0_col10\" class=\"col_heading level0 col10\" >alcohol</th>\n",
       "    </tr>\n",
       "  </thead>\n",
       "  <tbody>\n",
       "    <tr>\n",
       "      <th id=\"T_deca1_level0_row0\" class=\"row_heading level0 row0\" >count</th>\n",
       "      <td id=\"T_deca1_row0_col0\" class=\"data row0 col0\" >1279.00</td>\n",
       "      <td id=\"T_deca1_row0_col1\" class=\"data row0 col1\" >1279.00</td>\n",
       "      <td id=\"T_deca1_row0_col2\" class=\"data row0 col2\" >1279.00</td>\n",
       "      <td id=\"T_deca1_row0_col3\" class=\"data row0 col3\" >1279.00</td>\n",
       "      <td id=\"T_deca1_row0_col4\" class=\"data row0 col4\" >1279.00</td>\n",
       "      <td id=\"T_deca1_row0_col5\" class=\"data row0 col5\" >1279.00</td>\n",
       "      <td id=\"T_deca1_row0_col6\" class=\"data row0 col6\" >1279.00</td>\n",
       "      <td id=\"T_deca1_row0_col7\" class=\"data row0 col7\" >1279.00</td>\n",
       "      <td id=\"T_deca1_row0_col8\" class=\"data row0 col8\" >1279.00</td>\n",
       "      <td id=\"T_deca1_row0_col9\" class=\"data row0 col9\" >1279.00</td>\n",
       "      <td id=\"T_deca1_row0_col10\" class=\"data row0 col10\" >1279.00</td>\n",
       "    </tr>\n",
       "    <tr>\n",
       "      <th id=\"T_deca1_level0_row1\" class=\"row_heading level0 row1\" >mean</th>\n",
       "      <td id=\"T_deca1_row1_col0\" class=\"data row1 col0\" >0.00</td>\n",
       "      <td id=\"T_deca1_row1_col1\" class=\"data row1 col1\" >0.00</td>\n",
       "      <td id=\"T_deca1_row1_col2\" class=\"data row1 col2\" >0.00</td>\n",
       "      <td id=\"T_deca1_row1_col3\" class=\"data row1 col3\" >-0.00</td>\n",
       "      <td id=\"T_deca1_row1_col4\" class=\"data row1 col4\" >0.00</td>\n",
       "      <td id=\"T_deca1_row1_col5\" class=\"data row1 col5\" >0.00</td>\n",
       "      <td id=\"T_deca1_row1_col6\" class=\"data row1 col6\" >-0.00</td>\n",
       "      <td id=\"T_deca1_row1_col7\" class=\"data row1 col7\" >-0.00</td>\n",
       "      <td id=\"T_deca1_row1_col8\" class=\"data row1 col8\" >-0.00</td>\n",
       "      <td id=\"T_deca1_row1_col9\" class=\"data row1 col9\" >-0.00</td>\n",
       "      <td id=\"T_deca1_row1_col10\" class=\"data row1 col10\" >-0.00</td>\n",
       "    </tr>\n",
       "    <tr>\n",
       "      <th id=\"T_deca1_level0_row2\" class=\"row_heading level0 row2\" >std</th>\n",
       "      <td id=\"T_deca1_row2_col0\" class=\"data row2 col0\" >1.00</td>\n",
       "      <td id=\"T_deca1_row2_col1\" class=\"data row2 col1\" >1.00</td>\n",
       "      <td id=\"T_deca1_row2_col2\" class=\"data row2 col2\" >1.00</td>\n",
       "      <td id=\"T_deca1_row2_col3\" class=\"data row2 col3\" >1.00</td>\n",
       "      <td id=\"T_deca1_row2_col4\" class=\"data row2 col4\" >1.00</td>\n",
       "      <td id=\"T_deca1_row2_col5\" class=\"data row2 col5\" >1.00</td>\n",
       "      <td id=\"T_deca1_row2_col6\" class=\"data row2 col6\" >1.00</td>\n",
       "      <td id=\"T_deca1_row2_col7\" class=\"data row2 col7\" >1.00</td>\n",
       "      <td id=\"T_deca1_row2_col8\" class=\"data row2 col8\" >1.00</td>\n",
       "      <td id=\"T_deca1_row2_col9\" class=\"data row2 col9\" >1.00</td>\n",
       "      <td id=\"T_deca1_row2_col10\" class=\"data row2 col10\" >1.00</td>\n",
       "    </tr>\n",
       "    <tr>\n",
       "      <th id=\"T_deca1_level0_row3\" class=\"row_heading level0 row3\" >min</th>\n",
       "      <td id=\"T_deca1_row3_col0\" class=\"data row3 col0\" >-2.13</td>\n",
       "      <td id=\"T_deca1_row3_col1\" class=\"data row3 col1\" >-2.32</td>\n",
       "      <td id=\"T_deca1_row3_col2\" class=\"data row3 col2\" >-1.39</td>\n",
       "      <td id=\"T_deca1_row3_col3\" class=\"data row3 col3\" >-1.18</td>\n",
       "      <td id=\"T_deca1_row3_col4\" class=\"data row3 col4\" >-1.65</td>\n",
       "      <td id=\"T_deca1_row3_col5\" class=\"data row3 col5\" >-1.42</td>\n",
       "      <td id=\"T_deca1_row3_col6\" class=\"data row3 col6\" >-1.25</td>\n",
       "      <td id=\"T_deca1_row3_col7\" class=\"data row3 col7\" >-3.54</td>\n",
       "      <td id=\"T_deca1_row3_col8\" class=\"data row3 col8\" >-3.74</td>\n",
       "      <td id=\"T_deca1_row3_col9\" class=\"data row3 col9\" >-2.05</td>\n",
       "      <td id=\"T_deca1_row3_col10\" class=\"data row3 col10\" >-1.90</td>\n",
       "    </tr>\n",
       "    <tr>\n",
       "      <th id=\"T_deca1_level0_row4\" class=\"row_heading level0 row4\" >25%</th>\n",
       "      <td id=\"T_deca1_row4_col0\" class=\"data row4 col0\" >-0.70</td>\n",
       "      <td id=\"T_deca1_row4_col1\" class=\"data row4 col1\" >-0.78</td>\n",
       "      <td id=\"T_deca1_row4_col2\" class=\"data row4 col2\" >-0.88</td>\n",
       "      <td id=\"T_deca1_row4_col3\" class=\"data row4 col3\" >-0.47</td>\n",
       "      <td id=\"T_deca1_row4_col4\" class=\"data row4 col4\" >-0.37</td>\n",
       "      <td id=\"T_deca1_row4_col5\" class=\"data row4 col5\" >-0.85</td>\n",
       "      <td id=\"T_deca1_row4_col6\" class=\"data row4 col6\" >-0.76</td>\n",
       "      <td id=\"T_deca1_row4_col7\" class=\"data row4 col7\" >-0.61</td>\n",
       "      <td id=\"T_deca1_row4_col8\" class=\"data row4 col8\" >-0.66</td>\n",
       "      <td id=\"T_deca1_row4_col9\" class=\"data row4 col9\" >-0.67</td>\n",
       "      <td id=\"T_deca1_row4_col10\" class=\"data row4 col10\" >-0.87</td>\n",
       "    </tr>\n",
       "    <tr>\n",
       "      <th id=\"T_deca1_level0_row5\" class=\"row_heading level0 row5\" >50%</th>\n",
       "      <td id=\"T_deca1_row5_col0\" class=\"data row5 col0\" >-0.25</td>\n",
       "      <td id=\"T_deca1_row5_col1\" class=\"data row5 col1\" >-0.04</td>\n",
       "      <td id=\"T_deca1_row5_col2\" class=\"data row5 col2\" >-0.06</td>\n",
       "      <td id=\"T_deca1_row5_col3\" class=\"data row5 col3\" >-0.25</td>\n",
       "      <td id=\"T_deca1_row5_col4\" class=\"data row5 col4\" >-0.17</td>\n",
       "      <td id=\"T_deca1_row5_col5\" class=\"data row5 col5\" >-0.18</td>\n",
       "      <td id=\"T_deca1_row5_col6\" class=\"data row5 col6\" >-0.27</td>\n",
       "      <td id=\"T_deca1_row5_col7\" class=\"data row5 col7\" >0.01</td>\n",
       "      <td id=\"T_deca1_row5_col8\" class=\"data row5 col8\" >-0.00</td>\n",
       "      <td id=\"T_deca1_row5_col9\" class=\"data row5 col9\" >-0.23</td>\n",
       "      <td id=\"T_deca1_row5_col10\" class=\"data row5 col10\" >-0.21</td>\n",
       "    </tr>\n",
       "    <tr>\n",
       "      <th id=\"T_deca1_level0_row6\" class=\"row_heading level0 row6\" >75%</th>\n",
       "      <td id=\"T_deca1_row6_col0\" class=\"data row6 col0\" >0.55</td>\n",
       "      <td id=\"T_deca1_row6_col1\" class=\"data row6 col1\" >0.62</td>\n",
       "      <td id=\"T_deca1_row6_col2\" class=\"data row6 col2\" >0.81</td>\n",
       "      <td id=\"T_deca1_row6_col3\" class=\"data row6 col3\" >0.04</td>\n",
       "      <td id=\"T_deca1_row6_col4\" class=\"data row6 col4\" >0.09</td>\n",
       "      <td id=\"T_deca1_row6_col5\" class=\"data row6 col5\" >0.48</td>\n",
       "      <td id=\"T_deca1_row6_col6\" class=\"data row6 col6\" >0.49</td>\n",
       "      <td id=\"T_deca1_row6_col7\" class=\"data row6 col7\" >0.58</td>\n",
       "      <td id=\"T_deca1_row6_col8\" class=\"data row6 col8\" >0.59</td>\n",
       "      <td id=\"T_deca1_row6_col9\" class=\"data row6 col9\" >0.46</td>\n",
       "      <td id=\"T_deca1_row6_col10\" class=\"data row6 col10\" >0.64</td>\n",
       "    </tr>\n",
       "    <tr>\n",
       "      <th id=\"T_deca1_level0_row7\" class=\"row_heading level0 row7\" >max</th>\n",
       "      <td id=\"T_deca1_row7_col0\" class=\"data row7 col0\" >4.32</td>\n",
       "      <td id=\"T_deca1_row7_col1\" class=\"data row7 col1\" >4.60</td>\n",
       "      <td id=\"T_deca1_row7_col2\" class=\"data row7 col2\" >3.73</td>\n",
       "      <td id=\"T_deca1_row7_col3\" class=\"data row7 col3\" >9.24</td>\n",
       "      <td id=\"T_deca1_row7_col4\" class=\"data row7 col4\" >11.52</td>\n",
       "      <td id=\"T_deca1_row7_col5\" class=\"data row7 col5\" >5.35</td>\n",
       "      <td id=\"T_deca1_row7_col6\" class=\"data row7 col6\" >7.05</td>\n",
       "      <td id=\"T_deca1_row7_col7\" class=\"data row7 col7\" >3.65</td>\n",
       "      <td id=\"T_deca1_row7_col8\" class=\"data row7 col8\" >4.59</td>\n",
       "      <td id=\"T_deca1_row7_col9\" class=\"data row7 col9\" >8.43</td>\n",
       "      <td id=\"T_deca1_row7_col10\" class=\"data row7 col10\" >4.22</td>\n",
       "    </tr>\n",
       "  </tbody>\n",
       "</table>\n"
      ],
      "text/plain": [
       "<pandas.io.formats.style.Styler at 0x77e9fdc98410>"
      ]
     },
     "metadata": {},
     "output_type": "display_data"
    }
   ],
   "source": [
    "display(x_train.describe().style.format(\"{0:.2f}\").set_caption(\"Before normalization :\"))\n",
    "\n",
    "mean = x_train.mean()\n",
    "std  = x_train.std()\n",
    "x_train = (x_train - mean) / std\n",
    "x_test  = (x_test  - mean) / std\n",
    "\n",
    "display(x_train.describe().style.format(\"{0:.2f}\").set_caption(\"After normalization :\"))\n",
    "\n",
    "# Convert ou DataFrame to numpy array\n",
    "x_train, y_train = np.array(x_train), np.array(y_train)\n",
    "x_test,  y_test  = np.array(x_test),  np.array(y_test)\n"
   ]
  },
  {
   "cell_type": "markdown",
   "metadata": {},
   "source": [
    "## Step 4 - Build a model\n",
    "More informations about : \n",
    " - [Optimizer](https://keras.io/api/optimizers)\n",
    " - [Activation](https://keras.io/api/layers/activations)\n",
    " - [Loss](https://keras.io/api/losses)\n",
    " - [Metrics](https://keras.io/api/metrics)"
   ]
  },
  {
   "cell_type": "code",
   "execution_count": 7,
   "metadata": {},
   "outputs": [],
   "source": [
    "def get_model_v1(shape):\n",
    "  \n",
    "  model = keras.models.Sequential()\n",
    "  model.add(keras.layers.Input(shape, name=\"InputLayer\"))\n",
    "  model.add(keras.layers.Dense(64, activation='relu', name='Dense_n1'))\n",
    "  model.add(keras.layers.Dense(64, activation='relu', name='Dense_n2'))\n",
    "  model.add(keras.layers.Dense(1, name='Output'))\n",
    "\n",
    "  model.compile(optimizer = 'rmsprop',\n",
    "                loss      = 'mse',\n",
    "                metrics   = ['mae', 'mse'] )\n",
    "  return model"
   ]
  },
  {
   "cell_type": "markdown",
   "metadata": {},
   "source": [
    "## 5 - Train the model\n",
    "### 5.1 - Get it"
   ]
  },
  {
   "cell_type": "code",
   "execution_count": 8,
   "metadata": {},
   "outputs": [
    {
     "data": {
      "text/html": [
       "<pre style=\"white-space:pre;overflow-x:auto;line-height:normal;font-family:Menlo,'DejaVu Sans Mono',consolas,'Courier New',monospace\"><span style=\"font-weight: bold\">Model: \"sequential\"</span>\n",
       "</pre>\n"
      ],
      "text/plain": [
       "\u001b[1mModel: \"sequential\"\u001b[0m\n"
      ]
     },
     "metadata": {},
     "output_type": "display_data"
    },
    {
     "data": {
      "text/html": [
       "<pre style=\"white-space:pre;overflow-x:auto;line-height:normal;font-family:Menlo,'DejaVu Sans Mono',consolas,'Courier New',monospace\">┏━━━━━━━━━━━━━━━━━━━━━━━━━━━━━━━━━┳━━━━━━━━━━━━━━━━━━━━━━━━┳━━━━━━━━━━━━━━━┓\n",
       "┃<span style=\"font-weight: bold\"> Layer (type)                    </span>┃<span style=\"font-weight: bold\"> Output Shape           </span>┃<span style=\"font-weight: bold\">       Param # </span>┃\n",
       "┡━━━━━━━━━━━━━━━━━━━━━━━━━━━━━━━━━╇━━━━━━━━━━━━━━━━━━━━━━━━╇━━━━━━━━━━━━━━━┩\n",
       "│ Dense_n1 (<span style=\"color: #0087ff; text-decoration-color: #0087ff\">Dense</span>)                │ (<span style=\"color: #00d7ff; text-decoration-color: #00d7ff\">None</span>, <span style=\"color: #00af00; text-decoration-color: #00af00\">64</span>)             │           <span style=\"color: #00af00; text-decoration-color: #00af00\">768</span> │\n",
       "├─────────────────────────────────┼────────────────────────┼───────────────┤\n",
       "│ Dense_n2 (<span style=\"color: #0087ff; text-decoration-color: #0087ff\">Dense</span>)                │ (<span style=\"color: #00d7ff; text-decoration-color: #00d7ff\">None</span>, <span style=\"color: #00af00; text-decoration-color: #00af00\">64</span>)             │         <span style=\"color: #00af00; text-decoration-color: #00af00\">4,160</span> │\n",
       "├─────────────────────────────────┼────────────────────────┼───────────────┤\n",
       "│ Output (<span style=\"color: #0087ff; text-decoration-color: #0087ff\">Dense</span>)                  │ (<span style=\"color: #00d7ff; text-decoration-color: #00d7ff\">None</span>, <span style=\"color: #00af00; text-decoration-color: #00af00\">1</span>)              │            <span style=\"color: #00af00; text-decoration-color: #00af00\">65</span> │\n",
       "└─────────────────────────────────┴────────────────────────┴───────────────┘\n",
       "</pre>\n"
      ],
      "text/plain": [
       "┏━━━━━━━━━━━━━━━━━━━━━━━━━━━━━━━━━┳━━━━━━━━━━━━━━━━━━━━━━━━┳━━━━━━━━━━━━━━━┓\n",
       "┃\u001b[1m \u001b[0m\u001b[1mLayer (type)                   \u001b[0m\u001b[1m \u001b[0m┃\u001b[1m \u001b[0m\u001b[1mOutput Shape          \u001b[0m\u001b[1m \u001b[0m┃\u001b[1m \u001b[0m\u001b[1m      Param #\u001b[0m\u001b[1m \u001b[0m┃\n",
       "┡━━━━━━━━━━━━━━━━━━━━━━━━━━━━━━━━━╇━━━━━━━━━━━━━━━━━━━━━━━━╇━━━━━━━━━━━━━━━┩\n",
       "│ Dense_n1 (\u001b[38;5;33mDense\u001b[0m)                │ (\u001b[38;5;45mNone\u001b[0m, \u001b[38;5;34m64\u001b[0m)             │           \u001b[38;5;34m768\u001b[0m │\n",
       "├─────────────────────────────────┼────────────────────────┼───────────────┤\n",
       "│ Dense_n2 (\u001b[38;5;33mDense\u001b[0m)                │ (\u001b[38;5;45mNone\u001b[0m, \u001b[38;5;34m64\u001b[0m)             │         \u001b[38;5;34m4,160\u001b[0m │\n",
       "├─────────────────────────────────┼────────────────────────┼───────────────┤\n",
       "│ Output (\u001b[38;5;33mDense\u001b[0m)                  │ (\u001b[38;5;45mNone\u001b[0m, \u001b[38;5;34m1\u001b[0m)              │            \u001b[38;5;34m65\u001b[0m │\n",
       "└─────────────────────────────────┴────────────────────────┴───────────────┘\n"
      ]
     },
     "metadata": {},
     "output_type": "display_data"
    },
    {
     "data": {
      "text/html": [
       "<pre style=\"white-space:pre;overflow-x:auto;line-height:normal;font-family:Menlo,'DejaVu Sans Mono',consolas,'Courier New',monospace\"><span style=\"font-weight: bold\"> Total params: </span><span style=\"color: #00af00; text-decoration-color: #00af00\">4,993</span> (19.50 KB)\n",
       "</pre>\n"
      ],
      "text/plain": [
       "\u001b[1m Total params: \u001b[0m\u001b[38;5;34m4,993\u001b[0m (19.50 KB)\n"
      ]
     },
     "metadata": {},
     "output_type": "display_data"
    },
    {
     "data": {
      "text/html": [
       "<pre style=\"white-space:pre;overflow-x:auto;line-height:normal;font-family:Menlo,'DejaVu Sans Mono',consolas,'Courier New',monospace\"><span style=\"font-weight: bold\"> Trainable params: </span><span style=\"color: #00af00; text-decoration-color: #00af00\">4,993</span> (19.50 KB)\n",
       "</pre>\n"
      ],
      "text/plain": [
       "\u001b[1m Trainable params: \u001b[0m\u001b[38;5;34m4,993\u001b[0m (19.50 KB)\n"
      ]
     },
     "metadata": {},
     "output_type": "display_data"
    },
    {
     "data": {
      "text/html": [
       "<pre style=\"white-space:pre;overflow-x:auto;line-height:normal;font-family:Menlo,'DejaVu Sans Mono',consolas,'Courier New',monospace\"><span style=\"font-weight: bold\"> Non-trainable params: </span><span style=\"color: #00af00; text-decoration-color: #00af00\">0</span> (0.00 B)\n",
       "</pre>\n"
      ],
      "text/plain": [
       "\u001b[1m Non-trainable params: \u001b[0m\u001b[38;5;34m0\u001b[0m (0.00 B)\n"
      ]
     },
     "metadata": {},
     "output_type": "display_data"
    }
   ],
   "source": [
    "model=get_model_v1( (11,) )\n",
    "\n",
    "model.summary()"
   ]
  },
  {
   "cell_type": "markdown",
   "metadata": {},
   "source": [
    "### 5.2 - Add callback"
   ]
  },
  {
   "cell_type": "code",
   "execution_count": 9,
   "metadata": {},
   "outputs": [],
   "source": [
    "os.makedirs('./run/models',   mode=0o750, exist_ok=True)\n",
    "save_dir = \"./run/models/best_model.keras\"\n",
    "\n",
    "savemodel_callback = keras.callbacks.ModelCheckpoint( filepath=save_dir, monitor='val_mae', mode='max', save_best_only=True)"
   ]
  },
  {
   "cell_type": "markdown",
   "metadata": {},
   "source": [
    "### 5.3 - Train it"
   ]
  },
  {
   "cell_type": "code",
   "execution_count": 10,
   "metadata": {},
   "outputs": [
    {
     "name": "stdout",
     "output_type": "stream",
     "text": [
      "Epoch 1/100\n",
      "\u001b[1m128/128\u001b[0m \u001b[32m━━━━━━━━━━━━━━━━━━━━\u001b[0m\u001b[37m\u001b[0m \u001b[1m1s\u001b[0m 5ms/step - loss: 11.3474 - mae: 2.8652 - mse: 11.3474 - val_loss: 1.8902 - val_mae: 1.0527 - val_mse: 1.8902\n",
      "Epoch 2/100\n",
      "\u001b[1m128/128\u001b[0m \u001b[32m━━━━━━━━━━━━━━━━━━━━\u001b[0m\u001b[37m\u001b[0m \u001b[1m1s\u001b[0m 5ms/step - loss: 1.6275 - mae: 1.0022 - mse: 1.6275 - val_loss: 1.2460 - val_mae: 0.8349 - val_mse: 1.2460\n",
      "Epoch 3/100\n",
      "\u001b[1m128/128\u001b[0m \u001b[32m━━━━━━━━━━━━━━━━━━━━\u001b[0m\u001b[37m\u001b[0m \u001b[1m1s\u001b[0m 5ms/step - loss: 1.0611 - mae: 0.7994 - mse: 1.0611 - val_loss: 0.8601 - val_mae: 0.6966 - val_mse: 0.8601\n",
      "Epoch 4/100\n",
      "\u001b[1m128/128\u001b[0m \u001b[32m━━━━━━━━━━━━━━━━━━━━\u001b[0m\u001b[37m\u001b[0m \u001b[1m1s\u001b[0m 5ms/step - loss: 0.6969 - mae: 0.6619 - mse: 0.6969 - val_loss: 0.6407 - val_mae: 0.6206 - val_mse: 0.6407\n",
      "Epoch 5/100\n",
      "\u001b[1m128/128\u001b[0m \u001b[32m━━━━━━━━━━━━━━━━━━━━\u001b[0m\u001b[37m\u001b[0m \u001b[1m1s\u001b[0m 6ms/step - loss: 0.6003 - mae: 0.6018 - mse: 0.6003 - val_loss: 0.5827 - val_mae: 0.5961 - val_mse: 0.5827\n",
      "Epoch 6/100\n",
      "\u001b[1m128/128\u001b[0m \u001b[32m━━━━━━━━━━━━━━━━━━━━\u001b[0m\u001b[37m\u001b[0m \u001b[1m1s\u001b[0m 5ms/step - loss: 0.5046 - mae: 0.5615 - mse: 0.5046 - val_loss: 0.5267 - val_mae: 0.5685 - val_mse: 0.5267\n",
      "Epoch 7/100\n",
      "\u001b[1m128/128\u001b[0m \u001b[32m━━━━━━━━━━━━━━━━━━━━\u001b[0m\u001b[37m\u001b[0m \u001b[1m1s\u001b[0m 5ms/step - loss: 0.4853 - mae: 0.5532 - mse: 0.4853 - val_loss: 0.4996 - val_mae: 0.5455 - val_mse: 0.4996\n",
      "Epoch 8/100\n",
      "\u001b[1m128/128\u001b[0m \u001b[32m━━━━━━━━━━━━━━━━━━━━\u001b[0m\u001b[37m\u001b[0m \u001b[1m1s\u001b[0m 5ms/step - loss: 0.4618 - mae: 0.5318 - mse: 0.4618 - val_loss: 0.4034 - val_mae: 0.4923 - val_mse: 0.4034\n",
      "Epoch 9/100\n",
      "\u001b[1m128/128\u001b[0m \u001b[32m━━━━━━━━━━━━━━━━━━━━\u001b[0m\u001b[37m\u001b[0m \u001b[1m1s\u001b[0m 8ms/step - loss: 0.4209 - mae: 0.5049 - mse: 0.4209 - val_loss: 0.4471 - val_mae: 0.5151 - val_mse: 0.4471\n",
      "Epoch 10/100\n",
      "\u001b[1m128/128\u001b[0m \u001b[32m━━━━━━━━━━━━━━━━━━━━\u001b[0m\u001b[37m\u001b[0m \u001b[1m1s\u001b[0m 7ms/step - loss: 0.4136 - mae: 0.5027 - mse: 0.4136 - val_loss: 0.4361 - val_mae: 0.5130 - val_mse: 0.4361\n",
      "Epoch 11/100\n",
      "\u001b[1m128/128\u001b[0m \u001b[32m━━━━━━━━━━━━━━━━━━━━\u001b[0m\u001b[37m\u001b[0m \u001b[1m1s\u001b[0m 6ms/step - loss: 0.3926 - mae: 0.4902 - mse: 0.3926 - val_loss: 0.4346 - val_mae: 0.5094 - val_mse: 0.4346\n",
      "Epoch 12/100\n",
      "\u001b[1m128/128\u001b[0m \u001b[32m━━━━━━━━━━━━━━━━━━━━\u001b[0m\u001b[37m\u001b[0m \u001b[1m1s\u001b[0m 7ms/step - loss: 0.3789 - mae: 0.4863 - mse: 0.3789 - val_loss: 0.3941 - val_mae: 0.4873 - val_mse: 0.3941\n",
      "Epoch 13/100\n",
      "\u001b[1m128/128\u001b[0m \u001b[32m━━━━━━━━━━━━━━━━━━━━\u001b[0m\u001b[37m\u001b[0m \u001b[1m1s\u001b[0m 5ms/step - loss: 0.4277 - mae: 0.5118 - mse: 0.4277 - val_loss: 0.3889 - val_mae: 0.4802 - val_mse: 0.3889\n",
      "Epoch 14/100\n",
      "\u001b[1m128/128\u001b[0m \u001b[32m━━━━━━━━━━━━━━━━━━━━\u001b[0m\u001b[37m\u001b[0m \u001b[1m1s\u001b[0m 9ms/step - loss: 0.4263 - mae: 0.5114 - mse: 0.4263 - val_loss: 0.3902 - val_mae: 0.4842 - val_mse: 0.3902\n",
      "Epoch 15/100\n",
      "\u001b[1m128/128\u001b[0m \u001b[32m━━━━━━━━━━━━━━━━━━━━\u001b[0m\u001b[37m\u001b[0m \u001b[1m1s\u001b[0m 5ms/step - loss: 0.4033 - mae: 0.4906 - mse: 0.4033 - val_loss: 0.3822 - val_mae: 0.4786 - val_mse: 0.3822\n",
      "Epoch 16/100\n",
      "\u001b[1m128/128\u001b[0m \u001b[32m━━━━━━━━━━━━━━━━━━━━\u001b[0m\u001b[37m\u001b[0m \u001b[1m1s\u001b[0m 7ms/step - loss: 0.3573 - mae: 0.4692 - mse: 0.3573 - val_loss: 0.3996 - val_mae: 0.4833 - val_mse: 0.3996\n",
      "Epoch 17/100\n",
      "\u001b[1m128/128\u001b[0m \u001b[32m━━━━━━━━━━━━━━━━━━━━\u001b[0m\u001b[37m\u001b[0m \u001b[1m1s\u001b[0m 7ms/step - loss: 0.3188 - mae: 0.4358 - mse: 0.3188 - val_loss: 0.3944 - val_mae: 0.4875 - val_mse: 0.3944\n",
      "Epoch 18/100\n",
      "\u001b[1m128/128\u001b[0m \u001b[32m━━━━━━━━━━━━━━━━━━━━\u001b[0m\u001b[37m\u001b[0m \u001b[1m1s\u001b[0m 6ms/step - loss: 0.3556 - mae: 0.4647 - mse: 0.3556 - val_loss: 0.4058 - val_mae: 0.4865 - val_mse: 0.4058\n",
      "Epoch 19/100\n",
      "\u001b[1m128/128\u001b[0m \u001b[32m━━━━━━━━━━━━━━━━━━━━\u001b[0m\u001b[37m\u001b[0m \u001b[1m1s\u001b[0m 6ms/step - loss: 0.3635 - mae: 0.4769 - mse: 0.3635 - val_loss: 0.4165 - val_mae: 0.5066 - val_mse: 0.4165\n",
      "Epoch 20/100\n",
      "\u001b[1m128/128\u001b[0m \u001b[32m━━━━━━━━━━━━━━━━━━━━\u001b[0m\u001b[37m\u001b[0m \u001b[1m1s\u001b[0m 5ms/step - loss: 0.3320 - mae: 0.4542 - mse: 0.3320 - val_loss: 0.4021 - val_mae: 0.4884 - val_mse: 0.4021\n",
      "Epoch 21/100\n",
      "\u001b[1m128/128\u001b[0m \u001b[32m━━━━━━━━━━━━━━━━━━━━\u001b[0m\u001b[37m\u001b[0m \u001b[1m1s\u001b[0m 7ms/step - loss: 0.3431 - mae: 0.4533 - mse: 0.3431 - val_loss: 0.4598 - val_mae: 0.5197 - val_mse: 0.4598\n",
      "Epoch 22/100\n",
      "\u001b[1m128/128\u001b[0m \u001b[32m━━━━━━━━━━━━━━━━━━━━\u001b[0m\u001b[37m\u001b[0m \u001b[1m1s\u001b[0m 7ms/step - loss: 0.3432 - mae: 0.4525 - mse: 0.3432 - val_loss: 0.3850 - val_mae: 0.4794 - val_mse: 0.3850\n",
      "Epoch 23/100\n",
      "\u001b[1m128/128\u001b[0m \u001b[32m━━━━━━━━━━━━━━━━━━━━\u001b[0m\u001b[37m\u001b[0m \u001b[1m1s\u001b[0m 7ms/step - loss: 0.3342 - mae: 0.4586 - mse: 0.3342 - val_loss: 0.3949 - val_mae: 0.4702 - val_mse: 0.3949\n",
      "Epoch 24/100\n",
      "\u001b[1m128/128\u001b[0m \u001b[32m━━━━━━━━━━━━━━━━━━━━\u001b[0m\u001b[37m\u001b[0m \u001b[1m1s\u001b[0m 5ms/step - loss: 0.3496 - mae: 0.4614 - mse: 0.3496 - val_loss: 0.4600 - val_mae: 0.5168 - val_mse: 0.4600\n",
      "Epoch 25/100\n",
      "\u001b[1m128/128\u001b[0m \u001b[32m━━━━━━━━━━━━━━━━━━━━\u001b[0m\u001b[37m\u001b[0m \u001b[1m1s\u001b[0m 5ms/step - loss: 0.3161 - mae: 0.4291 - mse: 0.3161 - val_loss: 0.4119 - val_mae: 0.4944 - val_mse: 0.4119\n",
      "Epoch 26/100\n",
      "\u001b[1m128/128\u001b[0m \u001b[32m━━━━━━━━━━━━━━━━━━━━\u001b[0m\u001b[37m\u001b[0m \u001b[1m1s\u001b[0m 5ms/step - loss: 0.3118 - mae: 0.4349 - mse: 0.3118 - val_loss: 0.4076 - val_mae: 0.4993 - val_mse: 0.4076\n",
      "Epoch 27/100\n",
      "\u001b[1m128/128\u001b[0m \u001b[32m━━━━━━━━━━━━━━━━━━━━\u001b[0m\u001b[37m\u001b[0m \u001b[1m1s\u001b[0m 5ms/step - loss: 0.3248 - mae: 0.4431 - mse: 0.3248 - val_loss: 0.4372 - val_mae: 0.5170 - val_mse: 0.4372\n",
      "Epoch 28/100\n",
      "\u001b[1m128/128\u001b[0m \u001b[32m━━━━━━━━━━━━━━━━━━━━\u001b[0m\u001b[37m\u001b[0m \u001b[1m1s\u001b[0m 5ms/step - loss: 0.3278 - mae: 0.4426 - mse: 0.3278 - val_loss: 0.4354 - val_mae: 0.5077 - val_mse: 0.4354\n",
      "Epoch 29/100\n",
      "\u001b[1m128/128\u001b[0m \u001b[32m━━━━━━━━━━━━━━━━━━━━\u001b[0m\u001b[37m\u001b[0m \u001b[1m1s\u001b[0m 6ms/step - loss: 0.3178 - mae: 0.4394 - mse: 0.3178 - val_loss: 0.4033 - val_mae: 0.4864 - val_mse: 0.4033\n",
      "Epoch 30/100\n",
      "\u001b[1m128/128\u001b[0m \u001b[32m━━━━━━━━━━━━━━━━━━━━\u001b[0m\u001b[37m\u001b[0m \u001b[1m1s\u001b[0m 6ms/step - loss: 0.3147 - mae: 0.4338 - mse: 0.3147 - val_loss: 0.3853 - val_mae: 0.4864 - val_mse: 0.3853\n",
      "Epoch 31/100\n",
      "\u001b[1m128/128\u001b[0m \u001b[32m━━━━━━━━━━━━━━━━━━━━\u001b[0m\u001b[37m\u001b[0m \u001b[1m1s\u001b[0m 5ms/step - loss: 0.3277 - mae: 0.4407 - mse: 0.3277 - val_loss: 0.4095 - val_mae: 0.4925 - val_mse: 0.4095\n",
      "Epoch 32/100\n",
      "\u001b[1m128/128\u001b[0m \u001b[32m━━━━━━━━━━━━━━━━━━━━\u001b[0m\u001b[37m\u001b[0m \u001b[1m1s\u001b[0m 6ms/step - loss: 0.2875 - mae: 0.4093 - mse: 0.2875 - val_loss: 0.4558 - val_mae: 0.5253 - val_mse: 0.4558\n",
      "Epoch 33/100\n",
      "\u001b[1m128/128\u001b[0m \u001b[32m━━━━━━━━━━━━━━━━━━━━\u001b[0m\u001b[37m\u001b[0m \u001b[1m1s\u001b[0m 5ms/step - loss: 0.2949 - mae: 0.4239 - mse: 0.2949 - val_loss: 0.4358 - val_mae: 0.5199 - val_mse: 0.4358\n",
      "Epoch 34/100\n",
      "\u001b[1m128/128\u001b[0m \u001b[32m━━━━━━━━━━━━━━━━━━━━\u001b[0m\u001b[37m\u001b[0m \u001b[1m1s\u001b[0m 5ms/step - loss: 0.3140 - mae: 0.4296 - mse: 0.3140 - val_loss: 0.3995 - val_mae: 0.4931 - val_mse: 0.3995\n",
      "Epoch 35/100\n",
      "\u001b[1m128/128\u001b[0m \u001b[32m━━━━━━━━━━━━━━━━━━━━\u001b[0m\u001b[37m\u001b[0m \u001b[1m1s\u001b[0m 5ms/step - loss: 0.2960 - mae: 0.4163 - mse: 0.2960 - val_loss: 0.4691 - val_mae: 0.5197 - val_mse: 0.4691\n",
      "Epoch 36/100\n",
      "\u001b[1m128/128\u001b[0m \u001b[32m━━━━━━━━━━━━━━━━━━━━\u001b[0m\u001b[37m\u001b[0m \u001b[1m1s\u001b[0m 5ms/step - loss: 0.3033 - mae: 0.4183 - mse: 0.3033 - val_loss: 0.4542 - val_mae: 0.5329 - val_mse: 0.4542\n",
      "Epoch 37/100\n",
      "\u001b[1m128/128\u001b[0m \u001b[32m━━━━━━━━━━━━━━━━━━━━\u001b[0m\u001b[37m\u001b[0m \u001b[1m1s\u001b[0m 5ms/step - loss: 0.2753 - mae: 0.4056 - mse: 0.2753 - val_loss: 0.3845 - val_mae: 0.4753 - val_mse: 0.3845\n",
      "Epoch 38/100\n",
      "\u001b[1m128/128\u001b[0m \u001b[32m━━━━━━━━━━━━━━━━━━━━\u001b[0m\u001b[37m\u001b[0m \u001b[1m1s\u001b[0m 5ms/step - loss: 0.2863 - mae: 0.4036 - mse: 0.2863 - val_loss: 0.4216 - val_mae: 0.5017 - val_mse: 0.4216\n",
      "Epoch 39/100\n",
      "\u001b[1m128/128\u001b[0m \u001b[32m━━━━━━━━━━━━━━━━━━━━\u001b[0m\u001b[37m\u001b[0m \u001b[1m1s\u001b[0m 5ms/step - loss: 0.2807 - mae: 0.4115 - mse: 0.2807 - val_loss: 0.3771 - val_mae: 0.4694 - val_mse: 0.3771\n",
      "Epoch 40/100\n",
      "\u001b[1m128/128\u001b[0m \u001b[32m━━━━━━━━━━━━━━━━━━━━\u001b[0m\u001b[37m\u001b[0m \u001b[1m1s\u001b[0m 5ms/step - loss: 0.2750 - mae: 0.4078 - mse: 0.2750 - val_loss: 0.4283 - val_mae: 0.4983 - val_mse: 0.4283\n",
      "Epoch 41/100\n",
      "\u001b[1m128/128\u001b[0m \u001b[32m━━━━━━━━━━━━━━━━━━━━\u001b[0m\u001b[37m\u001b[0m \u001b[1m1s\u001b[0m 5ms/step - loss: 0.2853 - mae: 0.4141 - mse: 0.2853 - val_loss: 0.4290 - val_mae: 0.5048 - val_mse: 0.4290\n",
      "Epoch 42/100\n",
      "\u001b[1m128/128\u001b[0m \u001b[32m━━━━━━━━━━━━━━━━━━━━\u001b[0m\u001b[37m\u001b[0m \u001b[1m1s\u001b[0m 5ms/step - loss: 0.2744 - mae: 0.4004 - mse: 0.2744 - val_loss: 0.4137 - val_mae: 0.4969 - val_mse: 0.4137\n",
      "Epoch 43/100\n",
      "\u001b[1m128/128\u001b[0m \u001b[32m━━━━━━━━━━━━━━━━━━━━\u001b[0m\u001b[37m\u001b[0m \u001b[1m1s\u001b[0m 5ms/step - loss: 0.2943 - mae: 0.4141 - mse: 0.2943 - val_loss: 0.4054 - val_mae: 0.4995 - val_mse: 0.4054\n",
      "Epoch 44/100\n",
      "\u001b[1m128/128\u001b[0m \u001b[32m━━━━━━━━━━━━━━━━━━━━\u001b[0m\u001b[37m\u001b[0m \u001b[1m1s\u001b[0m 5ms/step - loss: 0.2774 - mae: 0.4070 - mse: 0.2774 - val_loss: 0.5528 - val_mae: 0.5963 - val_mse: 0.5528\n",
      "Epoch 45/100\n",
      "\u001b[1m128/128\u001b[0m \u001b[32m━━━━━━━━━━━━━━━━━━━━\u001b[0m\u001b[37m\u001b[0m \u001b[1m1s\u001b[0m 5ms/step - loss: 0.2611 - mae: 0.3916 - mse: 0.2611 - val_loss: 0.3989 - val_mae: 0.4802 - val_mse: 0.3989\n",
      "Epoch 46/100\n",
      "\u001b[1m128/128\u001b[0m \u001b[32m━━━━━━━━━━━━━━━━━━━━\u001b[0m\u001b[37m\u001b[0m \u001b[1m1s\u001b[0m 5ms/step - loss: 0.2710 - mae: 0.4008 - mse: 0.2710 - val_loss: 0.4160 - val_mae: 0.4924 - val_mse: 0.4160\n",
      "Epoch 47/100\n",
      "\u001b[1m128/128\u001b[0m \u001b[32m━━━━━━━━━━━━━━━━━━━━\u001b[0m\u001b[37m\u001b[0m \u001b[1m1s\u001b[0m 5ms/step - loss: 0.2684 - mae: 0.3960 - mse: 0.2684 - val_loss: 0.4022 - val_mae: 0.4943 - val_mse: 0.4022\n",
      "Epoch 48/100\n",
      "\u001b[1m128/128\u001b[0m \u001b[32m━━━━━━━━━━━━━━━━━━━━\u001b[0m\u001b[37m\u001b[0m \u001b[1m1s\u001b[0m 5ms/step - loss: 0.2616 - mae: 0.3903 - mse: 0.2616 - val_loss: 0.4212 - val_mae: 0.5006 - val_mse: 0.4212\n",
      "Epoch 49/100\n",
      "\u001b[1m128/128\u001b[0m \u001b[32m━━━━━━━━━━━━━━━━━━━━\u001b[0m\u001b[37m\u001b[0m \u001b[1m1s\u001b[0m 7ms/step - loss: 0.2535 - mae: 0.3902 - mse: 0.2535 - val_loss: 0.5038 - val_mae: 0.5563 - val_mse: 0.5038\n",
      "Epoch 50/100\n",
      "\u001b[1m128/128\u001b[0m \u001b[32m━━━━━━━━━━━━━━━━━━━━\u001b[0m\u001b[37m\u001b[0m \u001b[1m1s\u001b[0m 8ms/step - loss: 0.2576 - mae: 0.3924 - mse: 0.2576 - val_loss: 0.4529 - val_mae: 0.5149 - val_mse: 0.4529\n",
      "Epoch 51/100\n",
      "\u001b[1m128/128\u001b[0m \u001b[32m━━━━━━━━━━━━━━━━━━━━\u001b[0m\u001b[37m\u001b[0m \u001b[1m1s\u001b[0m 7ms/step - loss: 0.2833 - mae: 0.4127 - mse: 0.2833 - val_loss: 0.4156 - val_mae: 0.4902 - val_mse: 0.4156\n",
      "Epoch 52/100\n",
      "\u001b[1m128/128\u001b[0m \u001b[32m━━━━━━━━━━━━━━━━━━━━\u001b[0m\u001b[37m\u001b[0m \u001b[1m1s\u001b[0m 7ms/step - loss: 0.2351 - mae: 0.3707 - mse: 0.2351 - val_loss: 0.3890 - val_mae: 0.4831 - val_mse: 0.3890\n",
      "Epoch 53/100\n",
      "\u001b[1m128/128\u001b[0m \u001b[32m━━━━━━━━━━━━━━━━━━━━\u001b[0m\u001b[37m\u001b[0m \u001b[1m1s\u001b[0m 6ms/step - loss: 0.2615 - mae: 0.3943 - mse: 0.2615 - val_loss: 0.4239 - val_mae: 0.5089 - val_mse: 0.4239\n",
      "Epoch 54/100\n",
      "\u001b[1m128/128\u001b[0m \u001b[32m━━━━━━━━━━━━━━━━━━━━\u001b[0m\u001b[37m\u001b[0m \u001b[1m1s\u001b[0m 6ms/step - loss: 0.2446 - mae: 0.3814 - mse: 0.2446 - val_loss: 0.4180 - val_mae: 0.4992 - val_mse: 0.4180\n",
      "Epoch 55/100\n",
      "\u001b[1m128/128\u001b[0m \u001b[32m━━━━━━━━━━━━━━━━━━━━\u001b[0m\u001b[37m\u001b[0m \u001b[1m1s\u001b[0m 7ms/step - loss: 0.2514 - mae: 0.3784 - mse: 0.2514 - val_loss: 0.4117 - val_mae: 0.4933 - val_mse: 0.4117\n",
      "Epoch 56/100\n",
      "\u001b[1m128/128\u001b[0m \u001b[32m━━━━━━━━━━━━━━━━━━━━\u001b[0m\u001b[37m\u001b[0m \u001b[1m1s\u001b[0m 6ms/step - loss: 0.2578 - mae: 0.3874 - mse: 0.2578 - val_loss: 0.4205 - val_mae: 0.5073 - val_mse: 0.4205\n",
      "Epoch 57/100\n",
      "\u001b[1m128/128\u001b[0m \u001b[32m━━━━━━━━━━━━━━━━━━━━\u001b[0m\u001b[37m\u001b[0m \u001b[1m1s\u001b[0m 7ms/step - loss: 0.2434 - mae: 0.3793 - mse: 0.2434 - val_loss: 0.4172 - val_mae: 0.5105 - val_mse: 0.4172\n",
      "Epoch 58/100\n",
      "\u001b[1m128/128\u001b[0m \u001b[32m━━━━━━━━━━━━━━━━━━━━\u001b[0m\u001b[37m\u001b[0m \u001b[1m1s\u001b[0m 6ms/step - loss: 0.2394 - mae: 0.3678 - mse: 0.2394 - val_loss: 0.4298 - val_mae: 0.5060 - val_mse: 0.4298\n",
      "Epoch 59/100\n",
      "\u001b[1m128/128\u001b[0m \u001b[32m━━━━━━━━━━━━━━━━━━━━\u001b[0m\u001b[37m\u001b[0m \u001b[1m1s\u001b[0m 5ms/step - loss: 0.2396 - mae: 0.3698 - mse: 0.2396 - val_loss: 0.5084 - val_mae: 0.5467 - val_mse: 0.5084\n",
      "Epoch 60/100\n",
      "\u001b[1m128/128\u001b[0m \u001b[32m━━━━━━━━━━━━━━━━━━━━\u001b[0m\u001b[37m\u001b[0m \u001b[1m1s\u001b[0m 5ms/step - loss: 0.2298 - mae: 0.3740 - mse: 0.2298 - val_loss: 0.4431 - val_mae: 0.5095 - val_mse: 0.4431\n",
      "Epoch 61/100\n",
      "\u001b[1m128/128\u001b[0m \u001b[32m━━━━━━━━━━━━━━━━━━━━\u001b[0m\u001b[37m\u001b[0m \u001b[1m1s\u001b[0m 6ms/step - loss: 0.2315 - mae: 0.3700 - mse: 0.2315 - val_loss: 0.4717 - val_mae: 0.5229 - val_mse: 0.4717\n",
      "Epoch 62/100\n",
      "\u001b[1m128/128\u001b[0m \u001b[32m━━━━━━━━━━━━━━━━━━━━\u001b[0m\u001b[37m\u001b[0m \u001b[1m1s\u001b[0m 6ms/step - loss: 0.2190 - mae: 0.3603 - mse: 0.2190 - val_loss: 0.4199 - val_mae: 0.5019 - val_mse: 0.4199\n",
      "Epoch 63/100\n",
      "\u001b[1m128/128\u001b[0m \u001b[32m━━━━━━━━━━━━━━━━━━━━\u001b[0m\u001b[37m\u001b[0m \u001b[1m1s\u001b[0m 6ms/step - loss: 0.2085 - mae: 0.3493 - mse: 0.2085 - val_loss: 0.4682 - val_mae: 0.5314 - val_mse: 0.4682\n",
      "Epoch 64/100\n",
      "\u001b[1m128/128\u001b[0m \u001b[32m━━━━━━━━━━━━━━━━━━━━\u001b[0m\u001b[37m\u001b[0m \u001b[1m1s\u001b[0m 6ms/step - loss: 0.1923 - mae: 0.3385 - mse: 0.1923 - val_loss: 0.4107 - val_mae: 0.4913 - val_mse: 0.4107\n",
      "Epoch 65/100\n",
      "\u001b[1m128/128\u001b[0m \u001b[32m━━━━━━━━━━━━━━━━━━━━\u001b[0m\u001b[37m\u001b[0m \u001b[1m1s\u001b[0m 6ms/step - loss: 0.2265 - mae: 0.3624 - mse: 0.2265 - val_loss: 0.4218 - val_mae: 0.4975 - val_mse: 0.4218\n",
      "Epoch 66/100\n",
      "\u001b[1m128/128\u001b[0m \u001b[32m━━━━━━━━━━━━━━━━━━━━\u001b[0m\u001b[37m\u001b[0m \u001b[1m1s\u001b[0m 6ms/step - loss: 0.2111 - mae: 0.3492 - mse: 0.2111 - val_loss: 0.4347 - val_mae: 0.5049 - val_mse: 0.4347\n",
      "Epoch 67/100\n",
      "\u001b[1m128/128\u001b[0m \u001b[32m━━━━━━━━━━━━━━━━━━━━\u001b[0m\u001b[37m\u001b[0m \u001b[1m1s\u001b[0m 5ms/step - loss: 0.2071 - mae: 0.3516 - mse: 0.2071 - val_loss: 0.4526 - val_mae: 0.5164 - val_mse: 0.4526\n",
      "Epoch 68/100\n",
      "\u001b[1m128/128\u001b[0m \u001b[32m━━━━━━━━━━━━━━━━━━━━\u001b[0m\u001b[37m\u001b[0m \u001b[1m1s\u001b[0m 6ms/step - loss: 0.2159 - mae: 0.3595 - mse: 0.2159 - val_loss: 0.4055 - val_mae: 0.4810 - val_mse: 0.4055\n",
      "Epoch 69/100\n",
      "\u001b[1m128/128\u001b[0m \u001b[32m━━━━━━━━━━━━━━━━━━━━\u001b[0m\u001b[37m\u001b[0m \u001b[1m1s\u001b[0m 6ms/step - loss: 0.2179 - mae: 0.3541 - mse: 0.2179 - val_loss: 0.5089 - val_mae: 0.5490 - val_mse: 0.5089\n",
      "Epoch 70/100\n",
      "\u001b[1m128/128\u001b[0m \u001b[32m━━━━━━━━━━━━━━━━━━━━\u001b[0m\u001b[37m\u001b[0m \u001b[1m1s\u001b[0m 5ms/step - loss: 0.2177 - mae: 0.3589 - mse: 0.2177 - val_loss: 0.4185 - val_mae: 0.4926 - val_mse: 0.4185\n",
      "Epoch 71/100\n",
      "\u001b[1m128/128\u001b[0m \u001b[32m━━━━━━━━━━━━━━━━━━━━\u001b[0m\u001b[37m\u001b[0m \u001b[1m1s\u001b[0m 9ms/step - loss: 0.2169 - mae: 0.3530 - mse: 0.2169 - val_loss: 0.5097 - val_mae: 0.5568 - val_mse: 0.5097\n",
      "Epoch 72/100\n",
      "\u001b[1m128/128\u001b[0m \u001b[32m━━━━━━━━━━━━━━━━━━━━\u001b[0m\u001b[37m\u001b[0m \u001b[1m1s\u001b[0m 8ms/step - loss: 0.2268 - mae: 0.3679 - mse: 0.2268 - val_loss: 0.4329 - val_mae: 0.5007 - val_mse: 0.4329\n",
      "Epoch 73/100\n",
      "\u001b[1m128/128\u001b[0m \u001b[32m━━━━━━━━━━━━━━━━━━━━\u001b[0m\u001b[37m\u001b[0m \u001b[1m1s\u001b[0m 6ms/step - loss: 0.2037 - mae: 0.3474 - mse: 0.2037 - val_loss: 0.4444 - val_mae: 0.5080 - val_mse: 0.4444\n",
      "Epoch 74/100\n",
      "\u001b[1m128/128\u001b[0m \u001b[32m━━━━━━━━━━━━━━━━━━━━\u001b[0m\u001b[37m\u001b[0m \u001b[1m1s\u001b[0m 6ms/step - loss: 0.2115 - mae: 0.3523 - mse: 0.2115 - val_loss: 0.4227 - val_mae: 0.4851 - val_mse: 0.4227\n",
      "Epoch 75/100\n",
      "\u001b[1m128/128\u001b[0m \u001b[32m━━━━━━━━━━━━━━━━━━━━\u001b[0m\u001b[37m\u001b[0m \u001b[1m1s\u001b[0m 6ms/step - loss: 0.2231 - mae: 0.3566 - mse: 0.2231 - val_loss: 0.4218 - val_mae: 0.5018 - val_mse: 0.4218\n",
      "Epoch 76/100\n",
      "\u001b[1m128/128\u001b[0m \u001b[32m━━━━━━━━━━━━━━━━━━━━\u001b[0m\u001b[37m\u001b[0m \u001b[1m1s\u001b[0m 5ms/step - loss: 0.2076 - mae: 0.3413 - mse: 0.2076 - val_loss: 0.4914 - val_mae: 0.5337 - val_mse: 0.4914\n",
      "Epoch 77/100\n",
      "\u001b[1m128/128\u001b[0m \u001b[32m━━━━━━━━━━━━━━━━━━━━\u001b[0m\u001b[37m\u001b[0m \u001b[1m1s\u001b[0m 5ms/step - loss: 0.2054 - mae: 0.3485 - mse: 0.2054 - val_loss: 0.4424 - val_mae: 0.5103 - val_mse: 0.4424\n",
      "Epoch 78/100\n",
      "\u001b[1m128/128\u001b[0m \u001b[32m━━━━━━━━━━━━━━━━━━━━\u001b[0m\u001b[37m\u001b[0m \u001b[1m1s\u001b[0m 6ms/step - loss: 0.2011 - mae: 0.3468 - mse: 0.2011 - val_loss: 0.4403 - val_mae: 0.5143 - val_mse: 0.4403\n",
      "Epoch 79/100\n",
      "\u001b[1m128/128\u001b[0m \u001b[32m━━━━━━━━━━━━━━━━━━━━\u001b[0m\u001b[37m\u001b[0m \u001b[1m1s\u001b[0m 6ms/step - loss: 0.1699 - mae: 0.3137 - mse: 0.1699 - val_loss: 0.4187 - val_mae: 0.4892 - val_mse: 0.4187\n",
      "Epoch 80/100\n",
      "\u001b[1m128/128\u001b[0m \u001b[32m━━━━━━━━━━━━━━━━━━━━\u001b[0m\u001b[37m\u001b[0m \u001b[1m1s\u001b[0m 6ms/step - loss: 0.1962 - mae: 0.3377 - mse: 0.1962 - val_loss: 0.4482 - val_mae: 0.5138 - val_mse: 0.4482\n",
      "Epoch 81/100\n",
      "\u001b[1m128/128\u001b[0m \u001b[32m━━━━━━━━━━━━━━━━━━━━\u001b[0m\u001b[37m\u001b[0m \u001b[1m1s\u001b[0m 7ms/step - loss: 0.1972 - mae: 0.3341 - mse: 0.1972 - val_loss: 0.4221 - val_mae: 0.4928 - val_mse: 0.4221\n",
      "Epoch 82/100\n",
      "\u001b[1m128/128\u001b[0m \u001b[32m━━━━━━━━━━━━━━━━━━━━\u001b[0m\u001b[37m\u001b[0m \u001b[1m1s\u001b[0m 6ms/step - loss: 0.1942 - mae: 0.3344 - mse: 0.1942 - val_loss: 0.4472 - val_mae: 0.5157 - val_mse: 0.4472\n",
      "Epoch 83/100\n",
      "\u001b[1m128/128\u001b[0m \u001b[32m━━━━━━━━━━━━━━━━━━━━\u001b[0m\u001b[37m\u001b[0m \u001b[1m1s\u001b[0m 6ms/step - loss: 0.1796 - mae: 0.3335 - mse: 0.1796 - val_loss: 0.4895 - val_mae: 0.5532 - val_mse: 0.4895\n",
      "Epoch 84/100\n",
      "\u001b[1m128/128\u001b[0m \u001b[32m━━━━━━━━━━━━━━━━━━━━\u001b[0m\u001b[37m\u001b[0m \u001b[1m1s\u001b[0m 6ms/step - loss: 0.1910 - mae: 0.3427 - mse: 0.1910 - val_loss: 0.4548 - val_mae: 0.5178 - val_mse: 0.4548\n",
      "Epoch 85/100\n",
      "\u001b[1m128/128\u001b[0m \u001b[32m━━━━━━━━━━━━━━━━━━━━\u001b[0m\u001b[37m\u001b[0m \u001b[1m1s\u001b[0m 6ms/step - loss: 0.1724 - mae: 0.3165 - mse: 0.1724 - val_loss: 0.4640 - val_mae: 0.5244 - val_mse: 0.4640\n",
      "Epoch 86/100\n",
      "\u001b[1m128/128\u001b[0m \u001b[32m━━━━━━━━━━━━━━━━━━━━\u001b[0m\u001b[37m\u001b[0m \u001b[1m1s\u001b[0m 6ms/step - loss: 0.1953 - mae: 0.3398 - mse: 0.1953 - val_loss: 0.5184 - val_mae: 0.5585 - val_mse: 0.5184\n",
      "Epoch 87/100\n",
      "\u001b[1m128/128\u001b[0m \u001b[32m━━━━━━━━━━━━━━━━━━━━\u001b[0m\u001b[37m\u001b[0m \u001b[1m1s\u001b[0m 7ms/step - loss: 0.1844 - mae: 0.3305 - mse: 0.1844 - val_loss: 0.4049 - val_mae: 0.4779 - val_mse: 0.4049\n",
      "Epoch 88/100\n",
      "\u001b[1m128/128\u001b[0m \u001b[32m━━━━━━━━━━━━━━━━━━━━\u001b[0m\u001b[37m\u001b[0m \u001b[1m1s\u001b[0m 6ms/step - loss: 0.1838 - mae: 0.3313 - mse: 0.1838 - val_loss: 0.4867 - val_mae: 0.5358 - val_mse: 0.4867\n",
      "Epoch 89/100\n",
      "\u001b[1m128/128\u001b[0m \u001b[32m━━━━━━━━━━━━━━━━━━━━\u001b[0m\u001b[37m\u001b[0m \u001b[1m1s\u001b[0m 7ms/step - loss: 0.1838 - mae: 0.3241 - mse: 0.1838 - val_loss: 0.4143 - val_mae: 0.4916 - val_mse: 0.4143\n",
      "Epoch 90/100\n",
      "\u001b[1m128/128\u001b[0m \u001b[32m━━━━━━━━━━━━━━━━━━━━\u001b[0m\u001b[37m\u001b[0m \u001b[1m1s\u001b[0m 7ms/step - loss: 0.1766 - mae: 0.3228 - mse: 0.1766 - val_loss: 0.4843 - val_mae: 0.5295 - val_mse: 0.4843\n",
      "Epoch 91/100\n",
      "\u001b[1m128/128\u001b[0m \u001b[32m━━━━━━━━━━━━━━━━━━━━\u001b[0m\u001b[37m\u001b[0m \u001b[1m1s\u001b[0m 7ms/step - loss: 0.1832 - mae: 0.3308 - mse: 0.1832 - val_loss: 0.5572 - val_mae: 0.5765 - val_mse: 0.5572\n",
      "Epoch 92/100\n",
      "\u001b[1m128/128\u001b[0m \u001b[32m━━━━━━━━━━━━━━━━━━━━\u001b[0m\u001b[37m\u001b[0m \u001b[1m1s\u001b[0m 6ms/step - loss: 0.1867 - mae: 0.3234 - mse: 0.1867 - val_loss: 0.4575 - val_mae: 0.5136 - val_mse: 0.4575\n",
      "Epoch 93/100\n",
      "\u001b[1m128/128\u001b[0m \u001b[32m━━━━━━━━━━━━━━━━━━━━\u001b[0m\u001b[37m\u001b[0m \u001b[1m1s\u001b[0m 6ms/step - loss: 0.2069 - mae: 0.3470 - mse: 0.2069 - val_loss: 0.4675 - val_mae: 0.5281 - val_mse: 0.4675\n",
      "Epoch 94/100\n",
      "\u001b[1m128/128\u001b[0m \u001b[32m━━━━━━━━━━━━━━━━━━━━\u001b[0m\u001b[37m\u001b[0m \u001b[1m1s\u001b[0m 6ms/step - loss: 0.1768 - mae: 0.3160 - mse: 0.1768 - val_loss: 0.4325 - val_mae: 0.4929 - val_mse: 0.4325\n",
      "Epoch 95/100\n",
      "\u001b[1m128/128\u001b[0m \u001b[32m━━━━━━━━━━━━━━━━━━━━\u001b[0m\u001b[37m\u001b[0m \u001b[1m1s\u001b[0m 8ms/step - loss: 0.1570 - mae: 0.3044 - mse: 0.1570 - val_loss: 0.4736 - val_mae: 0.5290 - val_mse: 0.4736\n",
      "Epoch 96/100\n",
      "\u001b[1m128/128\u001b[0m \u001b[32m━━━━━━━━━━━━━━━━━━━━\u001b[0m\u001b[37m\u001b[0m \u001b[1m1s\u001b[0m 8ms/step - loss: 0.1609 - mae: 0.3032 - mse: 0.1609 - val_loss: 0.4430 - val_mae: 0.5029 - val_mse: 0.4430\n",
      "Epoch 97/100\n",
      "\u001b[1m128/128\u001b[0m \u001b[32m━━━━━━━━━━━━━━━━━━━━\u001b[0m\u001b[37m\u001b[0m \u001b[1m1s\u001b[0m 7ms/step - loss: 0.1804 - mae: 0.3212 - mse: 0.1804 - val_loss: 0.4393 - val_mae: 0.5105 - val_mse: 0.4393\n",
      "Epoch 98/100\n",
      "\u001b[1m128/128\u001b[0m \u001b[32m━━━━━━━━━━━━━━━━━━━━\u001b[0m\u001b[37m\u001b[0m \u001b[1m1s\u001b[0m 10ms/step - loss: 0.1554 - mae: 0.2981 - mse: 0.1554 - val_loss: 0.4558 - val_mae: 0.5045 - val_mse: 0.4558\n",
      "Epoch 99/100\n",
      "\u001b[1m128/128\u001b[0m \u001b[32m━━━━━━━━━━━━━━━━━━━━\u001b[0m\u001b[37m\u001b[0m \u001b[1m1s\u001b[0m 8ms/step - loss: 0.1828 - mae: 0.3238 - mse: 0.1828 - val_loss: 0.4390 - val_mae: 0.4939 - val_mse: 0.4390\n",
      "Epoch 100/100\n",
      "\u001b[1m128/128\u001b[0m \u001b[32m━━━━━━━━━━━━━━━━━━━━\u001b[0m\u001b[37m\u001b[0m \u001b[1m1s\u001b[0m 6ms/step - loss: 0.1781 - mae: 0.3246 - mse: 0.1781 - val_loss: 0.4864 - val_mae: 0.5334 - val_mse: 0.4864\n"
     ]
    }
   ],
   "source": [
    "history = model.fit(x_train,\n",
    "                    y_train,\n",
    "                    epochs          = 100,\n",
    "                    batch_size      = 10,\n",
    "                    verbose         = fit_verbosity,\n",
    "                    validation_data = (x_test, y_test),\n",
    "                    callbacks       = [savemodel_callback])"
   ]
  },
  {
   "cell_type": "markdown",
   "metadata": {},
   "source": [
    "## Step 6 - Evaluate\n",
    "### 6.1 - Model evaluation\n",
    "MAE =  Mean Absolute Error (between the labels and predictions)  \n",
    "A mae equal to 3 represents an average error in prediction of $3k."
   ]
  },
  {
   "cell_type": "code",
   "execution_count": 11,
   "metadata": {},
   "outputs": [
    {
     "name": "stdout",
     "output_type": "stream",
     "text": [
      "x_test / loss      : 0.4864\n",
      "x_test / mae       : 0.5334\n",
      "x_test / mse       : 0.4864\n"
     ]
    }
   ],
   "source": [
    "score = model.evaluate(x_test, y_test, verbose=0)\n",
    "\n",
    "print('x_test / loss      : {:5.4f}'.format(score[0]))\n",
    "print('x_test / mae       : {:5.4f}'.format(score[1]))\n",
    "print('x_test / mse       : {:5.4f}'.format(score[2]))"
   ]
  },
  {
   "cell_type": "markdown",
   "metadata": {},
   "source": [
    "### 6.2 - Training history\n",
    "What was the best result during our training ?"
   ]
  },
  {
   "cell_type": "code",
   "execution_count": 12,
   "metadata": {},
   "outputs": [
    {
     "name": "stdout",
     "output_type": "stream",
     "text": [
      "min( val_mae ) : 0.4694\n"
     ]
    }
   ],
   "source": [
    "print(\"min( val_mae ) : {:.4f}\".format( min(history.history[\"val_mae\"]) ) )"
   ]
  },
  {
   "cell_type": "code",
   "execution_count": 13,
   "metadata": {},
   "outputs": [
    {
     "data": {
      "image/png": "[encoded data removed]",
      "text/plain": [
       "<Figure size 800x600 with 1 Axes>"
      ]
     },
     "metadata": {},
     "output_type": "display_data"
    },
    {
     "data": {
      "image/png": "[encoded data removed]",
      "text/plain": [
       "<Figure size 800x600 with 1 Axes>"
      ]
     },
     "metadata": {},
     "output_type": "display_data"
    },
    {
     "data": {
      "image/png": "[encoded data removed]",
      "text/plain": [
       "<Figure size 800x600 with 1 Axes>"
      ]
     },
     "metadata": {},
     "output_type": "display_data"
    }
   ],
   "source": [
    "fidle.scrawler.history( history, plot={'MSE' :['mse', 'val_mse'],\n",
    "                        'MAE' :['mae', 'val_mae'],\n",
    "                        'LOSS':['loss','val_loss']}, save_as='01-history')"
   ]
  },
  {
   "cell_type": "markdown",
   "metadata": {},
   "source": [
    "## Step 7 - Restore a model :"
   ]
  },
  {
   "cell_type": "markdown",
   "metadata": {},
   "source": [
    "### 7.1 - Reload model"
   ]
  },
  {
   "cell_type": "code",
   "execution_count": 14,
   "metadata": {},
   "outputs": [
    {
     "data": {
      "text/html": [
       "<pre style=\"white-space:pre;overflow-x:auto;line-height:normal;font-family:Menlo,'DejaVu Sans Mono',consolas,'Courier New',monospace\"><span style=\"font-weight: bold\">Model: \"sequential\"</span>\n",
       "</pre>\n"
      ],
      "text/plain": [
       "\u001b[1mModel: \"sequential\"\u001b[0m\n"
      ]
     },
     "metadata": {},
     "output_type": "display_data"
    },
    {
     "data": {
      "text/html": [
       "<pre style=\"white-space:pre;overflow-x:auto;line-height:normal;font-family:Menlo,'DejaVu Sans Mono',consolas,'Courier New',monospace\">┏━━━━━━━━━━━━━━━━━━━━━━━━━━━━━━━━━┳━━━━━━━━━━━━━━━━━━━━━━━━┳━━━━━━━━━━━━━━━┓\n",
       "┃<span style=\"font-weight: bold\"> Layer (type)                    </span>┃<span style=\"font-weight: bold\"> Output Shape           </span>┃<span style=\"font-weight: bold\">       Param # </span>┃\n",
       "┡━━━━━━━━━━━━━━━━━━━━━━━━━━━━━━━━━╇━━━━━━━━━━━━━━━━━━━━━━━━╇━━━━━━━━━━━━━━━┩\n",
       "│ Dense_n1 (<span style=\"color: #0087ff; text-decoration-color: #0087ff\">Dense</span>)                │ (<span style=\"color: #00d7ff; text-decoration-color: #00d7ff\">None</span>, <span style=\"color: #00af00; text-decoration-color: #00af00\">64</span>)             │           <span style=\"color: #00af00; text-decoration-color: #00af00\">768</span> │\n",
       "├─────────────────────────────────┼────────────────────────┼───────────────┤\n",
       "│ Dense_n2 (<span style=\"color: #0087ff; text-decoration-color: #0087ff\">Dense</span>)                │ (<span style=\"color: #00d7ff; text-decoration-color: #00d7ff\">None</span>, <span style=\"color: #00af00; text-decoration-color: #00af00\">64</span>)             │         <span style=\"color: #00af00; text-decoration-color: #00af00\">4,160</span> │\n",
       "├─────────────────────────────────┼────────────────────────┼───────────────┤\n",
       "│ Output (<span style=\"color: #0087ff; text-decoration-color: #0087ff\">Dense</span>)                  │ (<span style=\"color: #00d7ff; text-decoration-color: #00d7ff\">None</span>, <span style=\"color: #00af00; text-decoration-color: #00af00\">1</span>)              │            <span style=\"color: #00af00; text-decoration-color: #00af00\">65</span> │\n",
       "└─────────────────────────────────┴────────────────────────┴───────────────┘\n",
       "</pre>\n"
      ],
      "text/plain": [
       "┏━━━━━━━━━━━━━━━━━━━━━━━━━━━━━━━━━┳━━━━━━━━━━━━━━━━━━━━━━━━┳━━━━━━━━━━━━━━━┓\n",
       "┃\u001b[1m \u001b[0m\u001b[1mLayer (type)                   \u001b[0m\u001b[1m \u001b[0m┃\u001b[1m \u001b[0m\u001b[1mOutput Shape          \u001b[0m\u001b[1m \u001b[0m┃\u001b[1m \u001b[0m\u001b[1m      Param #\u001b[0m\u001b[1m \u001b[0m┃\n",
       "┡━━━━━━━━━━━━━━━━━━━━━━━━━━━━━━━━━╇━━━━━━━━━━━━━━━━━━━━━━━━╇━━━━━━━━━━━━━━━┩\n",
       "│ Dense_n1 (\u001b[38;5;33mDense\u001b[0m)                │ (\u001b[38;5;45mNone\u001b[0m, \u001b[38;5;34m64\u001b[0m)             │           \u001b[38;5;34m768\u001b[0m │\n",
       "├─────────────────────────────────┼────────────────────────┼───────────────┤\n",
       "│ Dense_n2 (\u001b[38;5;33mDense\u001b[0m)                │ (\u001b[38;5;45mNone\u001b[0m, \u001b[38;5;34m64\u001b[0m)             │         \u001b[38;5;34m4,160\u001b[0m │\n",
       "├─────────────────────────────────┼────────────────────────┼───────────────┤\n",
       "│ Output (\u001b[38;5;33mDense\u001b[0m)                  │ (\u001b[38;5;45mNone\u001b[0m, \u001b[38;5;34m1\u001b[0m)              │            \u001b[38;5;34m65\u001b[0m │\n",
       "└─────────────────────────────────┴────────────────────────┴───────────────┘\n"
      ]
     },
     "metadata": {},
     "output_type": "display_data"
    },
    {
     "data": {
      "text/html": [
       "<pre style=\"white-space:pre;overflow-x:auto;line-height:normal;font-family:Menlo,'DejaVu Sans Mono',consolas,'Courier New',monospace\"><span style=\"font-weight: bold\"> Total params: </span><span style=\"color: #00af00; text-decoration-color: #00af00\">9,988</span> (39.02 KB)\n",
       "</pre>\n"
      ],
      "text/plain": [
       "\u001b[1m Total params: \u001b[0m\u001b[38;5;34m9,988\u001b[0m (39.02 KB)\n"
      ]
     },
     "metadata": {},
     "output_type": "display_data"
    },
    {
     "data": {
      "text/html": [
       "<pre style=\"white-space:pre;overflow-x:auto;line-height:normal;font-family:Menlo,'DejaVu Sans Mono',consolas,'Courier New',monospace\"><span style=\"font-weight: bold\"> Trainable params: </span><span style=\"color: #00af00; text-decoration-color: #00af00\">4,993</span> (19.50 KB)\n",
       "</pre>\n"
      ],
      "text/plain": [
       "\u001b[1m Trainable params: \u001b[0m\u001b[38;5;34m4,993\u001b[0m (19.50 KB)\n"
      ]
     },
     "metadata": {},
     "output_type": "display_data"
    },
    {
     "data": {
      "text/html": [
       "<pre style=\"white-space:pre;overflow-x:auto;line-height:normal;font-family:Menlo,'DejaVu Sans Mono',consolas,'Courier New',monospace\"><span style=\"font-weight: bold\"> Non-trainable params: </span><span style=\"color: #00af00; text-decoration-color: #00af00\">0</span> (0.00 B)\n",
       "</pre>\n"
      ],
      "text/plain": [
       "\u001b[1m Non-trainable params: \u001b[0m\u001b[38;5;34m0\u001b[0m (0.00 B)\n"
      ]
     },
     "metadata": {},
     "output_type": "display_data"
    },
    {
     "data": {
      "text/html": [
       "<pre style=\"white-space:pre;overflow-x:auto;line-height:normal;font-family:Menlo,'DejaVu Sans Mono',consolas,'Courier New',monospace\"><span style=\"font-weight: bold\"> Optimizer params: </span><span style=\"color: #00af00; text-decoration-color: #00af00\">4,995</span> (19.51 KB)\n",
       "</pre>\n"
      ],
      "text/plain": [
       "\u001b[1m Optimizer params: \u001b[0m\u001b[38;5;34m4,995\u001b[0m (19.51 KB)\n"
      ]
     },
     "metadata": {},
     "output_type": "display_data"
    },
    {
     "name": "stdout",
     "output_type": "stream",
     "text": [
      "Loaded.\n"
     ]
    }
   ],
   "source": [
    "loaded_model = keras.models.load_model('./run/models/best_model.keras')\n",
    "loaded_model.summary()\n",
    "print(\"Loaded.\")"
   ]
  },
  {
   "cell_type": "markdown",
   "metadata": {},
   "source": [
    "### 7.2 - Evaluate it :"
   ]
  },
  {
   "cell_type": "code",
   "execution_count": 15,
   "metadata": {},
   "outputs": [
    {
     "name": "stdout",
     "output_type": "stream",
     "text": [
      "x_test / loss      : 1.8902\n",
      "x_test / mae       : 1.0527\n",
      "x_test / mse       : 1.8902\n"
     ]
    }
   ],
   "source": [
    "score = loaded_model.evaluate(x_test, y_test, verbose=0)\n",
    "\n",
    "print('x_test / loss      : {:5.4f}'.format(score[0]))\n",
    "print('x_test / mae       : {:5.4f}'.format(score[1]))\n",
    "print('x_test / mse       : {:5.4f}'.format(score[2]))"
   ]
  },
  {
   "cell_type": "markdown",
   "metadata": {},
   "source": [
    "### 7.3 - Make a prediction"
   ]
  },
  {
   "cell_type": "code",
   "execution_count": 16,
   "metadata": {},
   "outputs": [],
   "source": [
    "# ---- Pick n entries from our test set\n",
    "n = 200\n",
    "ii = np.random.randint(1,len(x_test),n)\n",
    "x_sample = x_test[ii]\n",
    "y_sample = y_test[ii]"
   ]
  },
  {
   "cell_type": "code",
   "execution_count": 17,
   "metadata": {},
   "outputs": [
    {
     "name": "stdout",
     "output_type": "stream",
     "text": [
      "7/7 - 0s - 3ms/step\n"
     ]
    }
   ],
   "source": [
    "# ---- Make a predictions\n",
    "y_pred = loaded_model.predict( x_sample, verbose=2 )"
   ]
  },
  {
   "cell_type": "code",
   "execution_count": 18,
   "metadata": {},
   "outputs": [
    {
     "name": "stdout",
     "output_type": "stream",
     "text": [
      "Wine    Prediction   Real   Delta\n",
      "000        5.78       6      +0.22 \n",
      "001        6.77       7      +0.23 \n",
      "002        9.93       6      -3.93 \n",
      "003        5.50       7      +1.50 \n",
      "004        3.43       6      +2.57 \n",
      "005        4.10       5      +0.90 \n",
      "006        4.15       6      +1.85 \n",
      "007        6.41       5      -1.41 \n",
      "008        4.25       5      +0.75 \n",
      "009        5.61       6      +0.39 \n",
      "010        4.37       5      +0.63 \n",
      "011        6.69       5      -1.69 \n",
      "012        4.74       6      +1.26 \n",
      "013        7.23       5      -2.23 \n",
      "014        3.93       6      +2.07 \n",
      "015        5.79       5      -0.79 \n",
      "016        5.74       5      -0.74 \n",
      "017        4.77       5      +0.23 \n",
      "018        4.37       5      +0.63 \n",
      "019        5.77       6      +0.23 \n",
      "020        7.48       6      -1.48 \n",
      "021        5.37       6      +0.63 \n",
      "022        5.44       5      -0.44 \n",
      "023        6.90       5      -1.90 \n",
      "024        5.88       5      -0.88 \n",
      "025        4.08       5      +0.92 \n",
      "026        4.31       6      +1.69 \n",
      "027        6.82       5      -1.82 \n",
      "028        4.38       5      +0.62 \n",
      "029        4.48       5      +0.52 \n",
      "030        7.48       6      -1.48 \n",
      "031        7.48       6      -1.48 \n",
      "032        7.23       5      -2.23 \n",
      "033        5.50       7      +1.50 \n",
      "034        3.57       5      +1.43 \n",
      "035        3.18       6      +2.82 \n",
      "036        4.45       5      +0.55 \n",
      "037        9.81       5      -4.81 \n",
      "038        6.34       7      +0.66 \n",
      "039        5.89       5      -0.89 \n",
      "040        4.04       6      +1.96 \n",
      "041        6.16       5      -1.16 \n",
      "042        5.40       6      +0.60 \n",
      "043        7.99       7      -0.99 \n",
      "044        3.93       6      +2.07 \n",
      "045        6.82       5      -1.82 \n",
      "046        8.01       7      -1.01 \n",
      "047        5.44       5      -0.44 \n",
      "048        5.74       5      -0.74 \n",
      "049        5.95       6      +0.05 \n",
      "050        7.69       8      +0.31 \n",
      "051        5.79       5      -0.79 \n",
      "052        7.40       7      -0.40 \n",
      "053        6.29       6      -0.29 \n",
      "054        5.88       6      +0.12 \n",
      "055        5.74       6      +0.26 \n",
      "056        5.77       6      +0.23 \n",
      "057        4.37       5      +0.63 \n",
      "058        4.36       5      +0.64 \n",
      "059        4.31       6      +1.69 \n",
      "060        6.29       6      -0.29 \n",
      "061        3.38       5      +1.62 \n",
      "062        4.37       5      +0.63 \n",
      "063        7.92       6      -1.92 \n",
      "064        7.34       7      -0.34 \n",
      "065        5.88       7      +1.12 \n",
      "066        8.40       7      -1.40 \n",
      "067        9.65       6      -3.65 \n",
      "068        4.54       5      +0.46 \n",
      "069        5.89       5      -0.89 \n",
      "070        5.44       5      -0.44 \n",
      "071        7.67       5      -2.67 \n",
      "072        5.88       7      +1.12 \n",
      "073        9.64       6      -3.64 \n",
      "074        6.29       6      -0.29 \n",
      "075        6.25       6      -0.25 \n",
      "076        8.40       7      -1.40 \n",
      "077        4.91       5      +0.09 \n",
      "078        4.70       5      +0.30 \n",
      "079        5.59       5      -0.59 \n",
      "080        7.75       7      -0.75 \n",
      "081        5.88       7      +1.12 \n",
      "082        4.42       6      +1.58 \n",
      "083        4.48       6      +1.52 \n",
      "084        5.81       7      +1.19 \n",
      "085        5.77       5      -0.77 \n",
      "086        6.58       7      +0.42 \n",
      "087        4.06       6      +1.94 \n",
      "088        4.98       4      -0.98 \n",
      "089        7.24       5      -2.24 \n",
      "090        6.34       7      +0.66 \n",
      "091        5.62       7      +1.38 \n",
      "092        9.61       7      -2.61 \n",
      "093        5.50       7      +1.50 \n",
      "094        5.62       7      +1.38 \n",
      "095        5.77       6      +0.23 \n",
      "096        7.34       7      -0.34 \n",
      "097        8.60       7      -1.60 \n",
      "098        6.36       7      +0.64 \n",
      "099        4.13       6      +1.87 \n",
      "100        6.69       5      -1.69 \n",
      "101        4.70       5      +0.30 \n",
      "102        4.15       6      +1.85 \n",
      "103        9.64       6      -3.64 \n",
      "104        7.24       5      -2.24 \n",
      "105        4.64       6      +1.36 \n",
      "106        4.89       5      +0.11 \n",
      "107        9.93       6      -3.93 \n",
      "108        5.00       5      -0.00 \n",
      "109        5.52       5      -0.52 \n",
      "110        4.54       6      +1.46 \n",
      "111        4.79       6      +1.21 \n",
      "112        5.34       4      -1.34 \n",
      "113        3.97       6      +2.03 \n",
      "114        6.25       6      -0.25 \n",
      "115        4.78       6      +1.22 \n",
      "116        5.34       4      -1.34 \n",
      "117        3.93       6      +2.07 \n",
      "118        5.98       5      -0.98 \n",
      "119        8.24       5      -3.24 \n",
      "120        5.50       7      +1.50 \n",
      "121        5.89       5      -0.89 \n",
      "122        7.19       6      -1.19 \n",
      "123        4.37       5      +0.63 \n",
      "124        4.34       5      +0.66 \n",
      "125        9.65       6      -3.65 \n",
      "126        4.91       5      +0.09 \n",
      "127        5.53       5      -0.53 \n",
      "128        4.79       6      +1.21 \n",
      "129        5.95       6      +0.05 \n",
      "130        4.27       5      +0.73 \n",
      "131        4.47       5      +0.53 \n",
      "132        4.50       6      +1.50 \n",
      "133        4.37       5      +0.63 \n",
      "134        4.78       6      +1.22 \n",
      "135        5.86       6      +0.14 \n",
      "136        5.61       5      -0.61 \n",
      "137        9.55       7      -2.55 \n",
      "138        6.69       5      -1.69 \n",
      "139        4.15       6      +1.85 \n",
      "140        5.01       5      -0.01 \n",
      "141        5.88       7      +1.12 \n",
      "142        5.78       6      +0.22 \n",
      "143        6.41       6      -0.41 \n",
      "144        5.66       5      -0.66 \n",
      "145        4.36       5      +0.64 \n",
      "146        4.68       6      +1.32 \n",
      "147        4.83       6      +1.17 \n",
      "148        7.18       6      -1.18 \n",
      "149        4.26       5      +0.74 \n",
      "150        6.36       7      +0.64 \n",
      "151        5.77       5      -0.77 \n",
      "152        4.15       6      +1.85 \n",
      "153        6.76       6      -0.76 \n",
      "154        4.84       6      +1.16 \n",
      "155        6.93       7      +0.07 \n",
      "156        4.98       6      +1.02 \n",
      "157        7.14       5      -2.14 \n",
      "158        4.11       6      +1.89 \n",
      "159        6.13       6      -0.13 \n",
      "160        3.87       5      +1.13 \n",
      "161        5.89       5      -0.89 \n",
      "162        8.40       7      -1.40 \n",
      "163        5.45       4      -1.45 \n",
      "164        5.64       6      +0.36 \n",
      "165        6.41       5      -1.41 \n",
      "166        5.91       5      -0.91 \n",
      "167        6.71       6      -0.71 \n",
      "168        5.71       5      -0.71 \n",
      "169        4.34       5      +0.66 \n",
      "170        5.35       6      +0.65 \n",
      "171        6.75       6      -0.75 \n",
      "172        4.45       5      +0.55 \n",
      "173        4.37       5      +0.63 \n",
      "174        4.73       6      +1.27 \n",
      "175        7.67       5      -2.67 \n",
      "176        4.89       5      +0.11 \n",
      "177        4.15       6      +1.85 \n",
      "178        5.71       5      -0.71 \n",
      "179        7.54       7      -0.54 \n",
      "180        5.91       5      -0.91 \n",
      "181        5.27       6      +0.73 \n",
      "182        5.03       6      +0.97 \n",
      "183        5.71       5      -0.71 \n",
      "184        6.83       7      +0.17 \n",
      "185        7.92       6      -1.92 \n",
      "186        4.91       5      +0.09 \n",
      "187        9.65       6      -3.65 \n",
      "188        5.40       6      +0.60 \n",
      "189        4.47       5      +0.53 \n",
      "190        5.33       4      -1.33 \n",
      "191        4.45       5      +0.55 \n",
      "192        6.39       5      -1.39 \n",
      "193        5.22       5      -0.22 \n",
      "194        4.81       5      +0.19 \n",
      "195        4.32       5      +0.68 \n",
      "196        4.36       5      +0.64 \n",
      "197        4.79       5      +0.21 \n",
      "198        8.40       7      -1.40 \n",
      "199        6.22       6      -0.22 \n"
     ]
    }
   ],
   "source": [
    "# ---- Show it\n",
    "print('Wine    Prediction   Real   Delta')\n",
    "for i in range(n):\n",
    "    pred   = y_pred[i][0]\n",
    "    real   = y_sample[i]\n",
    "    delta  = real-pred\n",
    "    print(f'{i:03d}        {pred:.2f}       {real}      {delta:+.2f} ')"
   ]
  },
  {
   "cell_type": "markdown",
   "metadata": {},
   "source": [
    "### Few questions :\n",
    "- Can this model be used for red wines from Bordeaux and/or Beaujolais?\n",
    "- What are the limitations of this model?\n",
    "- What are the limitations of this dataset?"
   ]
  },
  {
   "cell_type": "markdown",
   "metadata": {},
   "source": [
    "#### Réponses :\n",
    "1. Ce modèle a été entrainé sur des vins rouges en général, il nous semble qu'il puisse être utilisé de manière plus précise pour du Bordeaux ou du Beaujolais.\n",
    "2.  On a uniquement une seule sortie c'est donc un modèle de régression, pas un modèle de classification.\n",
    "3.  On a peu d'échantillons uniquement 1279 échantillons ce qui est peu pour en faire une généralité. Uniquement des vins rouges, et on a ni la localisation ni la marque ce qui réduit les dimensions."
   ]
  },
  {
   "cell_type": "code",
   "execution_count": 20,
   "metadata": {
    "scrolled": true
   },
   "outputs": [
    {
     "data": {
      "text/markdown": [
       "**End time :** 22/09/25 16:44:44  \n",
       "**Duration :** 00:09:10 136ms  \n",
       "This notebook ends here :-)  \n",
       "[https://fidle.cnrs.fr](https://fidle.cnrs.fr)"
      ],
      "text/plain": [
       "<IPython.core.display.Markdown object>"
      ]
     },
     "metadata": {},
     "output_type": "display_data"
    }
   ],
   "source": [
    "fidle.end()"
   ]
  },
  {
   "cell_type": "markdown",
   "metadata": {},
   "source": [
    "---\n",
    "<img width=\"80px\" src=\"../fidle/img/logo-paysage.svg\"></img>"
   ]
  }
 ],
 "metadata": {
  "kernelspec": {
   "display_name": "Python 3 (ipykernel)",
   "language": "python",
   "name": "python3"
  },
  "language_info": {
   "codemirror_mode": {
    "name": "ipython",
    "version": 3
   },
   "file_extension": ".py",
   "mimetype": "text/x-python",
   "name": "python",
   "nbconvert_exporter": "python",
   "pygments_lexer": "ipython3",
   "version": "3.11.11"
  },
  "vscode": {
   "interpreter": {
    "hash": "b3929042cc22c1274d74e3e946c52b845b57cb6d84f2d591ffe0519b38e4896d"
   }
  }
 },
 "nbformat": 4,
 "nbformat_minor": 4
}
